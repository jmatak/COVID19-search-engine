{
 "cells": [
  {
   "cell_type": "code",
   "execution_count": 6,
   "metadata": {
    "pycharm": {
     "is_executing": false
    }
   },
   "outputs": [],
   "source": [
    "import sys\n",
    "sys.path.append('/Users/patrik/PycharmProjects/TAR-project') # change this to the root of your project when you download it\n",
    "\n",
    "from query_model.queries import QueryEngine\n",
    "\n",
    "import pandas as pd\n",
    "pd.set_option('display.max_colwidth', -1)"
   ]
  },
  {
   "cell_type": "code",
   "execution_count": null,
   "metadata": {},
   "outputs": [],
   "source": [
    "# saved model... I generated(saved) model in queries.py, take a look if trying out...\n",
    "query_engine = QueryEngine.load('../query_model/abstracts_query_engine.dat')"
   ]
  },
  {
   "cell_type": "code",
   "execution_count": 12,
   "metadata": {},
   "outputs": [
    {
     "data": {
      "text/html": [
       "<div>\n",
       "<style scoped>\n",
       "    .dataframe tbody tr th:only-of-type {\n",
       "        vertical-align: middle;\n",
       "    }\n",
       "\n",
       "    .dataframe tbody tr th {\n",
       "        vertical-align: top;\n",
       "    }\n",
       "\n",
       "    .dataframe thead th {\n",
       "        text-align: right;\n",
       "    }\n",
       "</style>\n",
       "<table border=\"1\" class=\"dataframe\">\n",
       "  <thead>\n",
       "    <tr style=\"text-align: right;\">\n",
       "      <th></th>\n",
       "      <th>text</th>\n",
       "      <th>sim</th>\n",
       "    </tr>\n",
       "  </thead>\n",
       "  <tbody>\n",
       "    <tr>\n",
       "      <th>47841</th>\n",
       "      <td>treatment.</td>\n",
       "      <td>0.630382</td>\n",
       "    </tr>\n",
       "    <tr>\n",
       "      <th>71269</th>\n",
       "      <td>COVID-19 is a new infectious disease, for which there is currently no treatment.</td>\n",
       "      <td>0.554812</td>\n",
       "    </tr>\n",
       "    <tr>\n",
       "      <th>82386</th>\n",
       "      <td>There is no effective treatment.</td>\n",
       "      <td>0.423078</td>\n",
       "    </tr>\n",
       "    <tr>\n",
       "      <th>17254</th>\n",
       "      <td>Conclusion: This review can be used as guidance for the traditional medicine treatment of COVID-19.</td>\n",
       "      <td>0.407891</td>\n",
       "    </tr>\n",
       "    <tr>\n",
       "      <th>82181</th>\n",
       "      <td>Coronavirus disease 2019 (COVID-19</td>\n",
       "      <td>0.361062</td>\n",
       "    </tr>\n",
       "  </tbody>\n",
       "</table>\n",
       "</div>"
      ],
      "text/plain": [
       "                                                                                                      text  \\\n",
       "47841  treatment.                                                                                            \n",
       "71269  COVID-19 is a new infectious disease, for which there is currently no treatment.                      \n",
       "82386  There is no effective treatment.                                                                      \n",
       "17254  Conclusion: This review can be used as guidance for the traditional medicine treatment of COVID-19.   \n",
       "82181  Coronavirus disease 2019 (COVID-19                                                                    \n",
       "\n",
       "            sim  \n",
       "47841  0.630382  \n",
       "71269  0.554812  \n",
       "82386  0.423078  \n",
       "17254  0.407891  \n",
       "82181  0.361062  "
      ]
     },
     "execution_count": 12,
     "metadata": {},
     "output_type": "execute_result"
    }
   ],
   "source": [
    "# basic query, the saved model was built on <15k paper abstracts(actually sentences from <15k paper abstracts)\n",
    "query_engine.run_query('covid treatment')[['text','sim']]"
   ]
  }
 ],
 "metadata": {
  "kernelspec": {
   "display_name": "Python 3",
   "language": "python",
   "name": "python3"
  },
  "language_info": {
   "codemirror_mode": {
    "name": "ipython",
    "version": 3
   },
   "file_extension": ".py",
   "mimetype": "text/x-python",
   "name": "python",
   "nbconvert_exporter": "python",
   "pygments_lexer": "ipython3",
   "version": "3.7.4"
  },
  "pycharm": {
   "stem_cell": {
    "cell_type": "raw",
    "metadata": {
     "collapsed": false
    },
    "source": []
   }
  }
 },
 "nbformat": 4,
 "nbformat_minor": 1
}
