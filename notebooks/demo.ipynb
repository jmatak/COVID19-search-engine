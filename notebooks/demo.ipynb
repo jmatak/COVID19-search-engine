{
  "nbformat": 4,
  "nbformat_minor": 0,
  "metadata": {
    "colab": {
      "name": "demo.ipynb",
      "provenance": [],
      "collapsed_sections": [],
      "toc_visible": true
    },
    "kernelspec": {
      "name": "python3",
      "display_name": "Python 3"
    },
    "accelerator": "GPU"
  },
  "cells": [
    {
      "cell_type": "code",
      "metadata": {
        "id": "RYSxORPohKwV",
        "colab_type": "code",
        "outputId": "6ae9b92d-3a09-4fdf-bfc4-1eb27a7fcf1a",
        "colab": {
          "base_uri": "https://localhost:8080/",
          "height": 34
        }
      },
      "source": [
        "from google.colab import drive\n",
        "drive.mount('/content/drive')"
      ],
      "execution_count": 1,
      "outputs": [
        {
          "output_type": "stream",
          "text": [
            "Drive already mounted at /content/drive; to attempt to forcibly remount, call drive.mount(\"/content/drive\", force_remount=True).\n"
          ],
          "name": "stdout"
        }
      ]
    },
    {
      "cell_type": "code",
      "metadata": {
        "id": "eRZaNBLei2Ch",
        "colab_type": "code",
        "colab": {}
      },
      "source": [
        "import sys\n",
        "sys.path.append('/content/drive/My Drive/APT/newest/TAR-project-master')"
      ],
      "execution_count": 0,
      "outputs": []
    },
    {
      "cell_type": "code",
      "metadata": {
        "id": "1KOCvWKfXn38",
        "colab_type": "code",
        "outputId": "ac6e21b0-f204-420d-c0e6-662d95588d8d",
        "colab": {
          "base_uri": "https://localhost:8080/",
          "height": 52
        }
      },
      "source": [
        "pip install num2words"
      ],
      "execution_count": 3,
      "outputs": [
        {
          "output_type": "stream",
          "text": [
            "Requirement already satisfied: num2words in /usr/local/lib/python3.6/dist-packages (0.5.10)\n",
            "Requirement already satisfied: docopt>=0.6.2 in /usr/local/lib/python3.6/dist-packages (from num2words) (0.6.2)\n"
          ],
          "name": "stdout"
        }
      ]
    },
    {
      "cell_type": "code",
      "metadata": {
        "id": "aOEwxoYXawEv",
        "colab_type": "code",
        "colab": {
          "base_uri": "https://localhost:8080/",
          "height": 52
        },
        "outputId": "fe436077-c131-4fa9-cee2-26b5642283c4"
      },
      "source": [
        "pip install langdetect"
      ],
      "execution_count": 4,
      "outputs": [
        {
          "output_type": "stream",
          "text": [
            "Requirement already satisfied: langdetect in /usr/local/lib/python3.6/dist-packages (1.0.8)\n",
            "Requirement already satisfied: six in /usr/local/lib/python3.6/dist-packages (from langdetect) (1.12.0)\n"
          ],
          "name": "stdout"
        }
      ]
    },
    {
      "cell_type": "code",
      "metadata": {
        "id": "8QK7xWYEa7p9",
        "colab_type": "code",
        "colab": {
          "base_uri": "https://localhost:8080/",
          "height": 425
        },
        "outputId": "a4320496-6a34-40b8-f7fb-5d69f703ad94"
      },
      "source": [
        "pip install -U sentence-transformers"
      ],
      "execution_count": 5,
      "outputs": [
        {
          "output_type": "stream",
          "text": [
            "Requirement already up-to-date: sentence-transformers in /usr/local/lib/python3.6/dist-packages (0.2.6.1)\n",
            "Requirement already satisfied, skipping upgrade: scikit-learn in /usr/local/lib/python3.6/dist-packages (from sentence-transformers) (0.22.2.post1)\n",
            "Requirement already satisfied, skipping upgrade: scipy in /usr/local/lib/python3.6/dist-packages (from sentence-transformers) (1.4.1)\n",
            "Requirement already satisfied, skipping upgrade: tqdm in /usr/local/lib/python3.6/dist-packages (from sentence-transformers) (4.41.1)\n",
            "Requirement already satisfied, skipping upgrade: numpy in /usr/local/lib/python3.6/dist-packages (from sentence-transformers) (1.18.4)\n",
            "Requirement already satisfied, skipping upgrade: nltk in /usr/local/lib/python3.6/dist-packages (from sentence-transformers) (3.2.5)\n",
            "Requirement already satisfied, skipping upgrade: torch>=1.0.1 in /usr/local/lib/python3.6/dist-packages (from sentence-transformers) (1.5.0+cu101)\n",
            "Requirement already satisfied, skipping upgrade: transformers>=2.8.0 in /usr/local/lib/python3.6/dist-packages (from sentence-transformers) (2.9.1)\n",
            "Requirement already satisfied, skipping upgrade: joblib>=0.11 in /usr/local/lib/python3.6/dist-packages (from scikit-learn->sentence-transformers) (0.14.1)\n",
            "Requirement already satisfied, skipping upgrade: six in /usr/local/lib/python3.6/dist-packages (from nltk->sentence-transformers) (1.12.0)\n",
            "Requirement already satisfied, skipping upgrade: future in /usr/local/lib/python3.6/dist-packages (from torch>=1.0.1->sentence-transformers) (0.16.0)\n",
            "Requirement already satisfied, skipping upgrade: filelock in /usr/local/lib/python3.6/dist-packages (from transformers>=2.8.0->sentence-transformers) (3.0.12)\n",
            "Requirement already satisfied, skipping upgrade: sentencepiece in /usr/local/lib/python3.6/dist-packages (from transformers>=2.8.0->sentence-transformers) (0.1.90)\n",
            "Requirement already satisfied, skipping upgrade: regex!=2019.12.17 in /usr/local/lib/python3.6/dist-packages (from transformers>=2.8.0->sentence-transformers) (2019.12.20)\n",
            "Requirement already satisfied, skipping upgrade: sacremoses in /usr/local/lib/python3.6/dist-packages (from transformers>=2.8.0->sentence-transformers) (0.0.43)\n",
            "Requirement already satisfied, skipping upgrade: requests in /usr/local/lib/python3.6/dist-packages (from transformers>=2.8.0->sentence-transformers) (2.23.0)\n",
            "Requirement already satisfied, skipping upgrade: tokenizers==0.7.0 in /usr/local/lib/python3.6/dist-packages (from transformers>=2.8.0->sentence-transformers) (0.7.0)\n",
            "Requirement already satisfied, skipping upgrade: dataclasses; python_version < \"3.7\" in /usr/local/lib/python3.6/dist-packages (from transformers>=2.8.0->sentence-transformers) (0.7)\n",
            "Requirement already satisfied, skipping upgrade: click in /usr/local/lib/python3.6/dist-packages (from sacremoses->transformers>=2.8.0->sentence-transformers) (7.1.2)\n",
            "Requirement already satisfied, skipping upgrade: chardet<4,>=3.0.2 in /usr/local/lib/python3.6/dist-packages (from requests->transformers>=2.8.0->sentence-transformers) (3.0.4)\n",
            "Requirement already satisfied, skipping upgrade: certifi>=2017.4.17 in /usr/local/lib/python3.6/dist-packages (from requests->transformers>=2.8.0->sentence-transformers) (2020.4.5.1)\n",
            "Requirement already satisfied, skipping upgrade: idna<3,>=2.5 in /usr/local/lib/python3.6/dist-packages (from requests->transformers>=2.8.0->sentence-transformers) (2.9)\n",
            "Requirement already satisfied, skipping upgrade: urllib3!=1.25.0,!=1.25.1,<1.26,>=1.21.1 in /usr/local/lib/python3.6/dist-packages (from requests->transformers>=2.8.0->sentence-transformers) (1.24.3)\n"
          ],
          "name": "stdout"
        }
      ]
    },
    {
      "cell_type": "code",
      "metadata": {
        "id": "wIE6I5C8z9zC",
        "colab_type": "code",
        "outputId": "f09eb29a-651b-4c6d-95b7-58f32ec23c11",
        "colab": {
          "base_uri": "https://localhost:8080/",
          "height": 87
        }
      },
      "source": [
        "import pandas as pd\n",
        "import numpy as np\n",
        "import nltk\n",
        "\n",
        "nltk.download('stopwords')\n",
        "nltk.download('punkt')\n",
        "\n",
        "from dataset.preprocessing.preprocessing import word_stem"
      ],
      "execution_count": 6,
      "outputs": [
        {
          "output_type": "stream",
          "text": [
            "[nltk_data] Downloading package stopwords to /root/nltk_data...\n",
            "[nltk_data]   Package stopwords is already up-to-date!\n",
            "[nltk_data] Downloading package punkt to /root/nltk_data...\n",
            "[nltk_data]   Package punkt is already up-to-date!\n"
          ],
          "name": "stdout"
        }
      ]
    },
    {
      "cell_type": "code",
      "metadata": {
        "id": "04K9tbjbP-QF",
        "colab_type": "code",
        "outputId": "0707bfea-93d7-451b-9d18-1d86027abcdb",
        "colab": {
          "base_uri": "https://localhost:8080/",
          "height": 197
        }
      },
      "source": [
        "abstracts_path = '/content/drive/My Drive/APT/temp_data/english_covid_abstracts_data.csv'\n",
        "abstracts = pd.read_csv(abstracts_path)\n",
        "abstracts.head()"
      ],
      "execution_count": 7,
      "outputs": [
        {
          "output_type": "execute_result",
          "data": {
            "text/html": [
              "<div>\n",
              "<style scoped>\n",
              "    .dataframe tbody tr th:only-of-type {\n",
              "        vertical-align: middle;\n",
              "    }\n",
              "\n",
              "    .dataframe tbody tr th {\n",
              "        vertical-align: top;\n",
              "    }\n",
              "\n",
              "    .dataframe thead th {\n",
              "        text-align: right;\n",
              "    }\n",
              "</style>\n",
              "<table border=\"1\" class=\"dataframe\">\n",
              "  <thead>\n",
              "    <tr style=\"text-align: right;\">\n",
              "      <th></th>\n",
              "      <th>paper_id</th>\n",
              "      <th>section</th>\n",
              "      <th>text</th>\n",
              "      <th>preprocessed_text</th>\n",
              "    </tr>\n",
              "  </thead>\n",
              "  <tbody>\n",
              "    <tr>\n",
              "      <th>0</th>\n",
              "      <td>86a998617c077f4fe2ab26214995a3548fbc0fc5</td>\n",
              "      <td>Abstract</td>\n",
              "      <td>The recent emergence of the Middle East respir...</td>\n",
              "      <td>the recent emerg middl east respiratori syndro...</td>\n",
              "    </tr>\n",
              "    <tr>\n",
              "      <th>1</th>\n",
              "      <td>306ef95a3a91e13a93bcc37fb2c509b67c0b5640</td>\n",
              "      <td>Abstract</td>\n",
              "      <td>Thousands of people in the United States have ...</td>\n",
              "      <td>thousand peopl unit state requir test sars-cov...</td>\n",
              "    </tr>\n",
              "    <tr>\n",
              "      <th>2</th>\n",
              "      <td>5e0c586f047ff909c8ed3fe171c8975a90608d08</td>\n",
              "      <td>Abstract</td>\n",
              "      <td>Background: Porcine epidemic diarrhea virus (P...</td>\n",
              "      <td>background porcin epidem diarrhea viru pedv em...</td>\n",
              "    </tr>\n",
              "    <tr>\n",
              "      <th>3</th>\n",
              "      <td>1579fbff7af9b156c6f49fee0526e48f852ea460</td>\n",
              "      <td>Abstract</td>\n",
              "      <td>Currently, live-attenuated IBV vaccines are us...</td>\n",
              "      <td>current live-attenu ibv vaccin use control dis...</td>\n",
              "    </tr>\n",
              "    <tr>\n",
              "      <th>4</th>\n",
              "      <td>f6b29be971089bfe0916c64ab9fbddcec38a7436</td>\n",
              "      <td>Abstract</td>\n",
              "      <td>Aims: To determine analytical capabilities of ...</td>\n",
              "      <td>aim determin analyt capabl commonli use faecal...</td>\n",
              "    </tr>\n",
              "  </tbody>\n",
              "</table>\n",
              "</div>"
            ],
            "text/plain": [
              "                                   paper_id  ...                                  preprocessed_text\n",
              "0  86a998617c077f4fe2ab26214995a3548fbc0fc5  ...  the recent emerg middl east respiratori syndro...\n",
              "1  306ef95a3a91e13a93bcc37fb2c509b67c0b5640  ...  thousand peopl unit state requir test sars-cov...\n",
              "2  5e0c586f047ff909c8ed3fe171c8975a90608d08  ...  background porcin epidem diarrhea viru pedv em...\n",
              "3  1579fbff7af9b156c6f49fee0526e48f852ea460  ...  current live-attenu ibv vaccin use control dis...\n",
              "4  f6b29be971089bfe0916c64ab9fbddcec38a7436  ...  aim determin analyt capabl commonli use faecal...\n",
              "\n",
              "[5 rows x 4 columns]"
            ]
          },
          "metadata": {
            "tags": []
          },
          "execution_count": 7
        }
      ]
    },
    {
      "cell_type": "markdown",
      "metadata": {
        "id": "wTNHbo4bJIW-",
        "colab_type": "text"
      },
      "source": [
        "## Queries"
      ]
    },
    {
      "cell_type": "code",
      "metadata": {
        "id": "CTIaN4ieJLp1",
        "colab_type": "code",
        "colab": {}
      },
      "source": [
        "queries = [\n",
        "           \"incubation period of COVID-19\",\n",
        "           \"Does smoking increase risks when having covid19?\",\n",
        "           \"mortality rate of covid19?\",\n",
        "           \"pregnancy complications covid19?\"\n",
        "]\n",
        "\n",
        "def run_queries(query_engine, queries, k=5):\n",
        "  results = query_engine.run_query(queries[0], k)\n",
        "  if len(queries) > 1:\n",
        "    for q in queries[1:]:\n",
        "      results = pd.concat([results, query_engine.run_query(q, k)])\n",
        "  return results"
      ],
      "execution_count": 0,
      "outputs": []
    },
    {
      "cell_type": "markdown",
      "metadata": {
        "id": "lIvXiwn3YqFQ",
        "colab_type": "text"
      },
      "source": [
        "## TF-IDF"
      ]
    },
    {
      "cell_type": "code",
      "metadata": {
        "id": "7fAUrRK-YtD6",
        "colab_type": "code",
        "colab": {}
      },
      "source": [
        "from nltk.corpus import stopwords\n",
        "from query_model.query_engines import BOWQueryEngine\n",
        "from sklearn.feature_extraction.text import CountVectorizer, TfidfTransformer"
      ],
      "execution_count": 0,
      "outputs": []
    },
    {
      "cell_type": "code",
      "metadata": {
        "id": "sIARuVWskfxo",
        "colab_type": "code",
        "colab": {}
      },
      "source": [
        "stop_words = set(stopwords.words('english'))\n",
        "cv = CountVectorizer(stop_words=stop_words)\n",
        "transformer = TfidfTransformer(smooth_idf=True, use_idf=True)\n",
        "query_engine = BOWQueryEngine(cv, transformer)\n",
        "query_engine.fit(abstracts)"
      ],
      "execution_count": 0,
      "outputs": []
    },
    {
      "cell_type": "code",
      "metadata": {
        "id": "QYpvVhnOOT9J",
        "colab_type": "code",
        "colab": {}
      },
      "source": [
        "# If you want to load already trained model\n",
        "# query_engine = BOWQueryEngine.load('/content/drive/My Drive/APT/trained_models/tf_idf.dat')"
      ],
      "execution_count": 0,
      "outputs": []
    },
    {
      "cell_type": "code",
      "metadata": {
        "id": "-zSGQHCW5_av",
        "colab_type": "code",
        "outputId": "4970fbf0-56d6-4b2c-9b0a-c72f4b3509af",
        "colab": {
          "base_uri": "https://localhost:8080/",
          "height": 34
        }
      },
      "source": [
        "query_engine.save('/content/drive/My Drive/APT/trained_models/', 'tf_idf')"
      ],
      "execution_count": 37,
      "outputs": [
        {
          "output_type": "stream",
          "text": [
            "Writing object to /content/drive/My Drive/APT/trained_models/tf_idf.dat\n"
          ],
          "name": "stdout"
        }
      ]
    },
    {
      "cell_type": "code",
      "metadata": {
        "id": "R68KafrMkvSy",
        "colab_type": "code",
        "colab": {}
      },
      "source": [
        "res = run_queries(query_engine, queries)\n",
        "res.reset_index(drop=True)[['query', 'text', 'sim']].style.set_properties(**{'font-size': '9pt'})"
      ],
      "execution_count": 0,
      "outputs": []
    },
    {
      "cell_type": "markdown",
      "metadata": {
        "id": "M9YD5x9_Yt7I",
        "colab_type": "text"
      },
      "source": [
        "## BM25"
      ]
    },
    {
      "cell_type": "code",
      "metadata": {
        "id": "RSCKl2XjiX6d",
        "colab_type": "code",
        "colab": {}
      },
      "source": [
        "from nltk.corpus import stopwords\n",
        "from query_model.query_engines import BOWQueryEngine\n",
        "from query_model.transformers.bm25 import BM25Transformer"
      ],
      "execution_count": 0,
      "outputs": []
    },
    {
      "cell_type": "code",
      "metadata": {
        "id": "n8DiXxUNYyHW",
        "colab_type": "code",
        "colab": {}
      },
      "source": [
        "stop_words = set(stopwords.words('english'))\n",
        "cv = CountVectorizer(stop_words=stop_words)\n",
        "transformer = BM25Transformer()\n",
        "query_engine = BOWQueryEngine(cv, transformer)\n",
        "query_engine.fit(abstracts)"
      ],
      "execution_count": 0,
      "outputs": []
    },
    {
      "cell_type": "code",
      "metadata": {
        "id": "518TSLpbL_6N",
        "colab_type": "code",
        "colab": {}
      },
      "source": [
        "# If you want to load already trained model\n",
        "# query_engine = BOWQueryEngine.load('/content/drive/My Drive/APT/trained_models/bm25.dat')"
      ],
      "execution_count": 0,
      "outputs": []
    },
    {
      "cell_type": "code",
      "metadata": {
        "id": "UlAFTktdNzsa",
        "colab_type": "code",
        "colab": {
          "base_uri": "https://localhost:8080/",
          "height": 34
        },
        "outputId": "f00a50ed-e313-4163-90dd-cc9ee43f4658"
      },
      "source": [
        "query_engine.save('/content/drive/My Drive/APT/trained_models/', 'bm25')"
      ],
      "execution_count": 23,
      "outputs": [
        {
          "output_type": "stream",
          "text": [
            "Writing object to /content/drive/My Drive/APT/trained_models/bm25.dat\n"
          ],
          "name": "stdout"
        }
      ]
    },
    {
      "cell_type": "code",
      "metadata": {
        "id": "gSB7ly51NVlW",
        "colab_type": "code",
        "colab": {}
      },
      "source": [
        "res = run_queries(query_engine, queries)\n",
        "res.reset_index(drop=True)[['query', 'text', 'sim']].style.set_properties(**{'font-size': '9pt'})"
      ],
      "execution_count": 0,
      "outputs": []
    },
    {
      "cell_type": "markdown",
      "metadata": {
        "id": "9yONZOt55tvW",
        "colab_type": "text"
      },
      "source": [
        "## Word2Vec"
      ]
    },
    {
      "cell_type": "code",
      "metadata": {
        "id": "SNpS-33p5uBp",
        "colab_type": "code",
        "colab": {}
      },
      "source": [
        "from query_model.query_engines import W2VQueryEngine"
      ],
      "execution_count": 0,
      "outputs": []
    },
    {
      "cell_type": "code",
      "metadata": {
        "id": "R2lHR5hV5xO7",
        "colab_type": "code",
        "colab": {}
      },
      "source": [
        "# TODO train...\n",
        "params = {\n",
        "    'min_count': 5,\n",
        "    'size': 300, \n",
        "    'workers': 3, \n",
        "    'window':3,\n",
        "    'sg': 1\n",
        "    }\n",
        "query_engine = W2VQueryEngine(params)\n",
        "query_engine.fit(abstracts)"
      ],
      "execution_count": 0,
      "outputs": []
    },
    {
      "cell_type": "code",
      "metadata": {
        "id": "4e1m9Q8MPqB2",
        "colab_type": "code",
        "colab": {}
      },
      "source": [
        "# If you want to load already trained model\n",
        "#query_engine = W2VQueryEngine.load('/content/drive/My Drive/APT/trained_models/w2v.dat')"
      ],
      "execution_count": 0,
      "outputs": []
    },
    {
      "cell_type": "code",
      "metadata": {
        "id": "6UC4LTiaPKRy",
        "colab_type": "code",
        "outputId": "3153505a-3498-4c54-eb27-71265dbdbe81",
        "colab": {
          "base_uri": "https://localhost:8080/",
          "height": 34
        }
      },
      "source": [
        "query_engine.save('/content/drive/My Drive/APT/trained_models/', 'w2v')"
      ],
      "execution_count": 17,
      "outputs": [
        {
          "output_type": "stream",
          "text": [
            "Writing object to /content/drive/My Drive/APT/trained_models/w2v.dat\n"
          ],
          "name": "stdout"
        }
      ]
    },
    {
      "cell_type": "code",
      "metadata": {
        "id": "Zn_IFHN8PTrv",
        "colab_type": "code",
        "colab": {}
      },
      "source": [
        "res = run_queries(query_engine, queries)\n",
        "res.reset_index(drop=True)[['query', 'text', 'sim']].style.set_properties(**{'font-size': '9pt'})"
      ],
      "execution_count": 0,
      "outputs": []
    },
    {
      "cell_type": "markdown",
      "metadata": {
        "id": "eq8EA4nrYRxT",
        "colab_type": "text"
      },
      "source": [
        "## Doc2Vec"
      ]
    },
    {
      "cell_type": "code",
      "metadata": {
        "id": "VEdGZJScRpnC",
        "colab_type": "code",
        "colab": {}
      },
      "source": [
        "from query_model.query_engines import D2VQueryEngine"
      ],
      "execution_count": 0,
      "outputs": []
    },
    {
      "cell_type": "code",
      "metadata": {
        "id": "5jfk8x6oREbc",
        "colab_type": "code",
        "colab": {}
      },
      "source": [
        "params = { \n",
        "    'vector_size': 300,\n",
        "    'min_count': 5, \n",
        "    'negative': 5, \n",
        "    'hs': 0, \n",
        "    'sample': 1e-5,\n",
        "    'epochs': 400,\n",
        "    'window': 15\n",
        "    }\n",
        "query_engine = D2VQueryEngine(params)\n",
        "query_engine.fit(abstracts)"
      ],
      "execution_count": 0,
      "outputs": []
    },
    {
      "cell_type": "code",
      "metadata": {
        "id": "gJr4ActUQVDa",
        "colab_type": "code",
        "colab": {}
      },
      "source": [
        "# If you want to load already trained model\n",
        "#query_engine = D2VQueryEngine.load('/content/drive/My Drive/APT/trained_models/d2v.dat')"
      ],
      "execution_count": 0,
      "outputs": []
    },
    {
      "cell_type": "code",
      "metadata": {
        "id": "zvOOC2nXQW3g",
        "colab_type": "code",
        "outputId": "585d5720-2fe0-453e-be30-898d1d88ee83",
        "colab": {
          "base_uri": "https://localhost:8080/",
          "height": 34
        }
      },
      "source": [
        "query_engine.save('/content/drive/My Drive/APT/trained_models/', 'd2v')"
      ],
      "execution_count": 43,
      "outputs": [
        {
          "output_type": "stream",
          "text": [
            "Writing object to /content/drive/My Drive/APT/trained_models/d2v.dat\n"
          ],
          "name": "stdout"
        }
      ]
    },
    {
      "cell_type": "code",
      "metadata": {
        "id": "YkxcYafnQbYn",
        "colab_type": "code",
        "colab": {
          "base_uri": "https://localhost:8080/",
          "height": 1000
        },
        "outputId": "214aa5d9-c017-48f2-d49d-e55102414ee2"
      },
      "source": [
        "res = run_queries(query_engine, queries)\n",
        "res.reset_index(drop=True)[['query', 'text', 'sim']].style.set_properties(**{'font-size': '9pt'})"
      ],
      "execution_count": 24,
      "outputs": [
        {
          "output_type": "stream",
          "text": [
            "100%|██████████| 1/1 [00:00<00:00, 212.97it/s]\n",
            "100%|██████████| 1/1 [00:00<00:00, 221.78it/s]\n",
            "100%|██████████| 1/1 [00:00<00:00, 204.20it/s]\n",
            "100%|██████████| 1/1 [00:00<00:00, 204.89it/s]\n"
          ],
          "name": "stderr"
        },
        {
          "output_type": "execute_result",
          "data": {
            "text/html": [
              "<style  type=\"text/css\" >\n",
              "    #T_f2991dee_963a_11ea_8f74_0242ac1c0002row0_col0 {\n",
              "            font-size:  9pt;\n",
              "        }    #T_f2991dee_963a_11ea_8f74_0242ac1c0002row0_col1 {\n",
              "            font-size:  9pt;\n",
              "        }    #T_f2991dee_963a_11ea_8f74_0242ac1c0002row0_col2 {\n",
              "            font-size:  9pt;\n",
              "        }    #T_f2991dee_963a_11ea_8f74_0242ac1c0002row1_col0 {\n",
              "            font-size:  9pt;\n",
              "        }    #T_f2991dee_963a_11ea_8f74_0242ac1c0002row1_col1 {\n",
              "            font-size:  9pt;\n",
              "        }    #T_f2991dee_963a_11ea_8f74_0242ac1c0002row1_col2 {\n",
              "            font-size:  9pt;\n",
              "        }    #T_f2991dee_963a_11ea_8f74_0242ac1c0002row2_col0 {\n",
              "            font-size:  9pt;\n",
              "        }    #T_f2991dee_963a_11ea_8f74_0242ac1c0002row2_col1 {\n",
              "            font-size:  9pt;\n",
              "        }    #T_f2991dee_963a_11ea_8f74_0242ac1c0002row2_col2 {\n",
              "            font-size:  9pt;\n",
              "        }    #T_f2991dee_963a_11ea_8f74_0242ac1c0002row3_col0 {\n",
              "            font-size:  9pt;\n",
              "        }    #T_f2991dee_963a_11ea_8f74_0242ac1c0002row3_col1 {\n",
              "            font-size:  9pt;\n",
              "        }    #T_f2991dee_963a_11ea_8f74_0242ac1c0002row3_col2 {\n",
              "            font-size:  9pt;\n",
              "        }    #T_f2991dee_963a_11ea_8f74_0242ac1c0002row4_col0 {\n",
              "            font-size:  9pt;\n",
              "        }    #T_f2991dee_963a_11ea_8f74_0242ac1c0002row4_col1 {\n",
              "            font-size:  9pt;\n",
              "        }    #T_f2991dee_963a_11ea_8f74_0242ac1c0002row4_col2 {\n",
              "            font-size:  9pt;\n",
              "        }    #T_f2991dee_963a_11ea_8f74_0242ac1c0002row5_col0 {\n",
              "            font-size:  9pt;\n",
              "        }    #T_f2991dee_963a_11ea_8f74_0242ac1c0002row5_col1 {\n",
              "            font-size:  9pt;\n",
              "        }    #T_f2991dee_963a_11ea_8f74_0242ac1c0002row5_col2 {\n",
              "            font-size:  9pt;\n",
              "        }    #T_f2991dee_963a_11ea_8f74_0242ac1c0002row6_col0 {\n",
              "            font-size:  9pt;\n",
              "        }    #T_f2991dee_963a_11ea_8f74_0242ac1c0002row6_col1 {\n",
              "            font-size:  9pt;\n",
              "        }    #T_f2991dee_963a_11ea_8f74_0242ac1c0002row6_col2 {\n",
              "            font-size:  9pt;\n",
              "        }    #T_f2991dee_963a_11ea_8f74_0242ac1c0002row7_col0 {\n",
              "            font-size:  9pt;\n",
              "        }    #T_f2991dee_963a_11ea_8f74_0242ac1c0002row7_col1 {\n",
              "            font-size:  9pt;\n",
              "        }    #T_f2991dee_963a_11ea_8f74_0242ac1c0002row7_col2 {\n",
              "            font-size:  9pt;\n",
              "        }    #T_f2991dee_963a_11ea_8f74_0242ac1c0002row8_col0 {\n",
              "            font-size:  9pt;\n",
              "        }    #T_f2991dee_963a_11ea_8f74_0242ac1c0002row8_col1 {\n",
              "            font-size:  9pt;\n",
              "        }    #T_f2991dee_963a_11ea_8f74_0242ac1c0002row8_col2 {\n",
              "            font-size:  9pt;\n",
              "        }    #T_f2991dee_963a_11ea_8f74_0242ac1c0002row9_col0 {\n",
              "            font-size:  9pt;\n",
              "        }    #T_f2991dee_963a_11ea_8f74_0242ac1c0002row9_col1 {\n",
              "            font-size:  9pt;\n",
              "        }    #T_f2991dee_963a_11ea_8f74_0242ac1c0002row9_col2 {\n",
              "            font-size:  9pt;\n",
              "        }    #T_f2991dee_963a_11ea_8f74_0242ac1c0002row10_col0 {\n",
              "            font-size:  9pt;\n",
              "        }    #T_f2991dee_963a_11ea_8f74_0242ac1c0002row10_col1 {\n",
              "            font-size:  9pt;\n",
              "        }    #T_f2991dee_963a_11ea_8f74_0242ac1c0002row10_col2 {\n",
              "            font-size:  9pt;\n",
              "        }    #T_f2991dee_963a_11ea_8f74_0242ac1c0002row11_col0 {\n",
              "            font-size:  9pt;\n",
              "        }    #T_f2991dee_963a_11ea_8f74_0242ac1c0002row11_col1 {\n",
              "            font-size:  9pt;\n",
              "        }    #T_f2991dee_963a_11ea_8f74_0242ac1c0002row11_col2 {\n",
              "            font-size:  9pt;\n",
              "        }    #T_f2991dee_963a_11ea_8f74_0242ac1c0002row12_col0 {\n",
              "            font-size:  9pt;\n",
              "        }    #T_f2991dee_963a_11ea_8f74_0242ac1c0002row12_col1 {\n",
              "            font-size:  9pt;\n",
              "        }    #T_f2991dee_963a_11ea_8f74_0242ac1c0002row12_col2 {\n",
              "            font-size:  9pt;\n",
              "        }    #T_f2991dee_963a_11ea_8f74_0242ac1c0002row13_col0 {\n",
              "            font-size:  9pt;\n",
              "        }    #T_f2991dee_963a_11ea_8f74_0242ac1c0002row13_col1 {\n",
              "            font-size:  9pt;\n",
              "        }    #T_f2991dee_963a_11ea_8f74_0242ac1c0002row13_col2 {\n",
              "            font-size:  9pt;\n",
              "        }    #T_f2991dee_963a_11ea_8f74_0242ac1c0002row14_col0 {\n",
              "            font-size:  9pt;\n",
              "        }    #T_f2991dee_963a_11ea_8f74_0242ac1c0002row14_col1 {\n",
              "            font-size:  9pt;\n",
              "        }    #T_f2991dee_963a_11ea_8f74_0242ac1c0002row14_col2 {\n",
              "            font-size:  9pt;\n",
              "        }    #T_f2991dee_963a_11ea_8f74_0242ac1c0002row15_col0 {\n",
              "            font-size:  9pt;\n",
              "        }    #T_f2991dee_963a_11ea_8f74_0242ac1c0002row15_col1 {\n",
              "            font-size:  9pt;\n",
              "        }    #T_f2991dee_963a_11ea_8f74_0242ac1c0002row15_col2 {\n",
              "            font-size:  9pt;\n",
              "        }    #T_f2991dee_963a_11ea_8f74_0242ac1c0002row16_col0 {\n",
              "            font-size:  9pt;\n",
              "        }    #T_f2991dee_963a_11ea_8f74_0242ac1c0002row16_col1 {\n",
              "            font-size:  9pt;\n",
              "        }    #T_f2991dee_963a_11ea_8f74_0242ac1c0002row16_col2 {\n",
              "            font-size:  9pt;\n",
              "        }    #T_f2991dee_963a_11ea_8f74_0242ac1c0002row17_col0 {\n",
              "            font-size:  9pt;\n",
              "        }    #T_f2991dee_963a_11ea_8f74_0242ac1c0002row17_col1 {\n",
              "            font-size:  9pt;\n",
              "        }    #T_f2991dee_963a_11ea_8f74_0242ac1c0002row17_col2 {\n",
              "            font-size:  9pt;\n",
              "        }    #T_f2991dee_963a_11ea_8f74_0242ac1c0002row18_col0 {\n",
              "            font-size:  9pt;\n",
              "        }    #T_f2991dee_963a_11ea_8f74_0242ac1c0002row18_col1 {\n",
              "            font-size:  9pt;\n",
              "        }    #T_f2991dee_963a_11ea_8f74_0242ac1c0002row18_col2 {\n",
              "            font-size:  9pt;\n",
              "        }</style><table id=\"T_f2991dee_963a_11ea_8f74_0242ac1c0002\" ><thead>    <tr>        <th class=\"blank level0\" ></th>        <th class=\"col_heading level0 col0\" >query</th>        <th class=\"col_heading level0 col1\" >text</th>        <th class=\"col_heading level0 col2\" >sim</th>    </tr></thead><tbody>\n",
              "                <tr>\n",
              "                        <th id=\"T_f2991dee_963a_11ea_8f74_0242ac1c0002level0_row0\" class=\"row_heading level0 row0\" >0</th>\n",
              "                        <td id=\"T_f2991dee_963a_11ea_8f74_0242ac1c0002row0_col0\" class=\"data row0 col0\" >incub period covid-19 .</td>\n",
              "                        <td id=\"T_f2991dee_963a_11ea_8f74_0242ac1c0002row0_col1\" class=\"data row0 col1\" >The recent emergence of the Middle East respiratory syndrome (MERS)-CoV, a close relative of the Severe Acute respiratory syndrome (SARS)-CoV, both of which caused a lethal respiratory infection in humans, reinforces the need for further understanding of coronavirus pathogenesis and the host immune response. These viruses have evolved diverse strategies to evade and block host immune responses, facilitating infection and transmission. Pathogenesis following infection with these viruses is characterized by a marked delay in the induction of Type I interferon (IFN I) and, subsequently, by a poor adaptive immune response. Therapies that expedite IFN I induction as well as interventions that antagonize immunoevasive virus proteins are thus promising candidates for immune modulation. </td>\n",
              "                        <td id=\"T_f2991dee_963a_11ea_8f74_0242ac1c0002row0_col2\" class=\"data row0 col2\" >0.994406</td>\n",
              "            </tr>\n",
              "            <tr>\n",
              "                        <th id=\"T_f2991dee_963a_11ea_8f74_0242ac1c0002level0_row1\" class=\"row_heading level0 row1\" >1</th>\n",
              "                        <td id=\"T_f2991dee_963a_11ea_8f74_0242ac1c0002row1_col0\" class=\"data row1 col0\" >incub period covid-19 .</td>\n",
              "                        <td id=\"T_f2991dee_963a_11ea_8f74_0242ac1c0002row1_col1\" class=\"data row1 col1\" >Background: Porcine epidemic diarrhea virus (PEDV) is emerging as a pathogenic coronavirus that causes a huge economic burden to the swine industry. Interaction of the viral spike (S) surface glycoprotein with the host cell receptor is recognized as the first step of infection and is the main determinant of virus tropism. The mechanisms by which neutralizing antibodies inhibit PEDV have not been defined. Isolating PEDV neutralizing antibodies are crucial to identifying the receptor-binding domains of the viral spike and elucidating the mechanism of protection against PEDV infection. Methods: B cell hybridoma technique was used to generate hybridoma cells that secrete specific antibodies. E.coli prokaryotic expression system and Bac-to-Bac expression system were used to identify the target protein of each monoclonal antibody. qPCR was performed to analyze PEDV binding to Vero E6 cells with neutralizing antibody. Results: We identified 10 monoclonal antibodies using hybridoma technology. Remarkably, 4 mAbs (designed 2G8, 2B11, 3D9, 1E3) neutralized virus infection potently, of which 2B11 and 1E3 targeted the conformational epitope of the PEDV S protein. qPCR results showed that both 2B11 and 2G8 blocked virus entry into Vero cells. Conclusion: The data suggested that PEDV neutralizing antibody inhibited virus infection by binding to infectious virions, which could work as a tool to find the receptor-binding domains. </td>\n",
              "                        <td id=\"T_f2991dee_963a_11ea_8f74_0242ac1c0002row1_col2\" class=\"data row1 col2\" >0.980386</td>\n",
              "            </tr>\n",
              "            <tr>\n",
              "                        <th id=\"T_f2991dee_963a_11ea_8f74_0242ac1c0002level0_row2\" class=\"row_heading level0 row2\" >2</th>\n",
              "                        <td id=\"T_f2991dee_963a_11ea_8f74_0242ac1c0002row2_col0\" class=\"data row2 col0\" >incub period covid-19 .</td>\n",
              "                        <td id=\"T_f2991dee_963a_11ea_8f74_0242ac1c0002row2_col1\" class=\"data row2 col1\" >Thousands of people in the United States have required testing for SARS-CoV-2. Evaluation for a special pathogen is resource intensive. We report an innovative approach to home assessment that, in collaboration with public health, enables safe evaluation and specimen collection outside the healthcare setting, avoiding unnecessary exposures and resource utilization. </td>\n",
              "                        <td id=\"T_f2991dee_963a_11ea_8f74_0242ac1c0002row2_col2\" class=\"data row2 col2\" >0.980239</td>\n",
              "            </tr>\n",
              "            <tr>\n",
              "                        <th id=\"T_f2991dee_963a_11ea_8f74_0242ac1c0002level0_row3\" class=\"row_heading level0 row3\" >3</th>\n",
              "                        <td id=\"T_f2991dee_963a_11ea_8f74_0242ac1c0002row3_col0\" class=\"data row3 col0\" >incub period covid-19 .</td>\n",
              "                        <td id=\"T_f2991dee_963a_11ea_8f74_0242ac1c0002row3_col1\" class=\"data row3 col1\" >Aims: To determine analytical capabilities of a commonly used faecal immunochemical test (FIT) to detect haemoglobin (Hb) in the context of NICE guidance DG30, and the likely use of FIT to reprioritise patients delayed by the COVID-19 pandemic. Methods: Data obtained from independent verification studies and clinical testing of the HM-JACKarc FIT method in routine primary care practice were analysed to derive analytical performance characteristics. Results: Detection capabilities for the FIT method were 0.5 µg/g (limit of blank), 1.1 (limit of detection) and 15.0 µg/g (limit of quantification). 31 of 33 (94%) non-homogenised specimens analysed in triplicate were consistently categorised relative to 10 µg/g compared to all 33 (100%) homogenised specimens. Imprecision in non-homogenised specimens was higher (median 27.8%, (range 20.5% -48.6%)) than in homogenised specimens (10. </td>\n",
              "                        <td id=\"T_f2991dee_963a_11ea_8f74_0242ac1c0002row3_col2\" class=\"data row3 col2\" >0.978179</td>\n",
              "            </tr>\n",
              "            <tr>\n",
              "                        <th id=\"T_f2991dee_963a_11ea_8f74_0242ac1c0002level0_row4\" class=\"row_heading level0 row4\" >4</th>\n",
              "                        <td id=\"T_f2991dee_963a_11ea_8f74_0242ac1c0002row4_col0\" class=\"data row4 col0\" >incub period covid-19 .</td>\n",
              "                        <td id=\"T_f2991dee_963a_11ea_8f74_0242ac1c0002row4_col1\" class=\"data row4 col1\" >The rapid outbreak of the new Coronavirus pandemic and the spread of the virus worldwide, especially in the Northern Hemisphere, have prompted various investigations about the impact of environmental factors on the rate of development of this epidemic. Different studies have called the attention to various parameters that may have influenced the spread of the virus, and in particular, the impact of climatic parameters has been emphasized. The main purpose of this study is to investigate the correlation between the average daily temperature and the rate of coronavirus epidemic growth in the infected regions. The main hypothesis object of our research is that between regions exhibiting a significant difference in the mean daily temperature, a significant difference is also observed in the average cumulative daily rate of confirmed cases, and that this does not happen if there is no significant difference in mean daily temperature. To test this research hypothesis, we carried on the case study of three regions in each of five countries and analyzed the correlation through F-test, and Independent-Samples T-Test. In all five selected countries, we found that when there is a significant difference in the daily mean temperature between two regions of a country, a significant difference exists also in the average cumulative daily rate of confirmed cases. Conversely, if there are no significant differences in the mean daily temperature of two regions in the same country, no significant difference is observed in the average cumulative daily rate of confirmed cases for these regions. </td>\n",
              "                        <td id=\"T_f2991dee_963a_11ea_8f74_0242ac1c0002row4_col2\" class=\"data row4 col2\" >0.921884</td>\n",
              "            </tr>\n",
              "            <tr>\n",
              "                        <th id=\"T_f2991dee_963a_11ea_8f74_0242ac1c0002level0_row5\" class=\"row_heading level0 row5\" >5</th>\n",
              "                        <td id=\"T_f2991dee_963a_11ea_8f74_0242ac1c0002row5_col0\" class=\"data row5 col0\" >doe smoke increas risk covid19 .</td>\n",
              "                        <td id=\"T_f2991dee_963a_11ea_8f74_0242ac1c0002row5_col1\" class=\"data row5 col1\" >and subtropical countries and is a significant public health concern and socioeconomic burden. There is an urgent need to develop antivirals that can effectively reduce dengue virus (DENV) replication and decrease viral load. Niclosamide, an antiparasitic drug approved for human use, has been recently identified as an effective antiviral agent against a number of pH-dependent viruses, including flaviviruses. Here, we reveal that neutralization of low-pH intracellular compartments by niclosamide affects multiple steps of the DENV infectious cycle. Specifically, niclosamide-induced endosomal neutralization not only prevents viral RNA replication but also affects the maturation of DENV particles, rendering them non-infectious. We found that niclosamide-induced endosomal neutralization prevented E glycoprotein conformational changes on the virion surface of flaviviruses, resulting in the release of non-infectious immature virus particles with uncleaved pr peptide from host cells. Collectively, our findings support the potential application of niclosamide as an antiviral agent against flavivirus infection and highlight a previously uncharacterized mechanism of action of the drug. Dengue virus (DENV) represents a major mosquito-borne pathogen responsible for significant public health and socioeconomic burden in large regions of tropical and subtropical countries 1,2 . There are four distinct serotypes, DENV-1 to DENV-4, that are transmitted mainly by mosquitoes of Aedes species, which continuously spread to new geographical areas around the world 3 . The World Health Organization estimates a prevalence of 50-100 million cases of DENV infection per year; however, a recent global estimate study suggested that 390 million DENV infections occur annually, of which 96 million cases have clear symptoms 2 . DENV infection causes a wide range of clinical symptoms, from acute febrile illness (dengue fever) to life-threatening haemorrhagic fever/dengue shock syndrome 1 . To date, clinically approved therapeutic options for treating DENV-infected patients are still lacking. DENV is an enveloped, single-stranded, positive-sense RNA virus that belongs to Flavivirus genus in the family Flaviviridae 4 . The genus Flavivirus comprises many important emerging arboviruses including Japanese encephalitis virus, West Nile virus and Zika virus (ZIKV). Recently, ZIKV infection has emerged as a global public health concern due to its association with newborn microcephaly 5,6 and neurological sequelae such as Guillain-Barré syndrome, meningoencephalitis, and myelitis in infected adults 6-10 . The flavivirus genome is approximately 11 kb in length and encodes a polyprotein that is processed into three structural (capsid [C], premembrane [prM], and envelope [E]) and seven non-structural proteins (NS1, NS2A, NS2B, NS3, NS4A, NS4B, www.nature.com/scientificreports www.nature.com/scientificreports/ and NS5) by cellular and viral proteases 11,12 . Flavivirus infection is initiated by attachment of the virus to a cellular receptor on the plasma membrane followed by receptor-mediated endocytosis and transportation of viral particles to endosomes 13, 14 . Viral membrane fusion with the endosomal membrane is triggered upon exposure of the virus to the low-pH environment of endosomes, through which the viral genome is released into the cytoplasm 15-19 . Following RNA replication and protein translation, immature virions containing prM proteins are assembled within the endoplasmic reticulum (ER) and mature through passaging the acidic environment of the trans-Golgi network (TGN), wherein E proteins undergo conformational changes and the pr peptides are cleaved by furin endoproteases, after which progeny virions are released from the host cell 20-24 . It is well established that neutralization of the acidic TGN environment prevents furin cleavage, resulting in immature particles containing uncleaved prM proteins [25] [26] [27] . These immature particles are non-infectious since the uncleaved prM peptides block the low-pH-induced conformational changes of the viral E proteins essential for binding to the cell surface as well as membrane fusion of the virus during entry 23, 26, 28, 29 . Thus, several studies have shown that lysosomotropic agents, such as chloroquine, exert modest antiviral effects against pH-dependent viruses, including flaviviruses, by interfering with endosomal fusion and furin-dependent maturation in vivo and in vitro 23,30-32 . Recently, niclosamide, a U.S. Food and Drug Administration (FDA)-approved antiparasitic drug used in humans 33-35 , has been identified as an effective antiviral agent against a number of pH-dependent viruses, such as human rhinoviruses and influenza virus 36 , severe acute respiratory syndrome-coronavirus 37 , Chikungunya virus 38 , and flaviviruses [39] [40] [41] . These studies suggested that the broad antiviral activity of niclosamide is associated with neutralization of endo-lysosomal pH that interferes with pH-dependent membrane fusion which is a critical step for virus entry 36 . In a recent study, Kao et al. 41 , determined the inhibitory role of endosomal deacidification in DENV viral genome replication and uncoating but not in later steps of the viral life cycle. Therefore, the possible effect of niclosamide-induced neutralization of endosomal compartments on later stages of the DENV infectious cycle remains to be elucidated. In this study, we investigated and confirmed that the neutralization of low-pH intracellular compartments by niclosamide affects multiple steps of the DENV infectious cycle. Our data indicate that niclosamide-induced endosomal neutralization prevents viral genome release and replication as well as maturation of DENV particles rendering it non-infectious. Specifically, we found that niclosamide-induced endosomal neutralization blocks conformational changes of E glycoproteins on the virion surface of both DENV and ZIKV, resulting in the release of immature virus particles with uncleaved pr peptide and preventing them from infecting new host cells. Collectively, our findings support the potential application of niclosamide as an antiviral agent against flavivirus infection and highlight a previously uncharacterized mechanism of action of the drug. Scientific RepoRts | (2019) 9:8682 | https://doi. </td>\n",
              "                        <td id=\"T_f2991dee_963a_11ea_8f74_0242ac1c0002row5_col2\" class=\"data row5 col2\" >0.054235</td>\n",
              "            </tr>\n",
              "            <tr>\n",
              "                        <th id=\"T_f2991dee_963a_11ea_8f74_0242ac1c0002level0_row6\" class=\"row_heading level0 row6\" >6</th>\n",
              "                        <td id=\"T_f2991dee_963a_11ea_8f74_0242ac1c0002row6_col0\" class=\"data row6 col0\" >doe smoke increas risk covid19 .</td>\n",
              "                        <td id=\"T_f2991dee_963a_11ea_8f74_0242ac1c0002row6_col1\" class=\"data row6 col1\" >W e are living the most important pandemic in recent world history, caused by a novel coronavirus (SARS-CoV-2), with a significant impact on the economy, public health, and mental health of the entire society. São Paulo is the epicenter of the epidemic in Brazil. Brazilian university hospitals -centers for professional training and qualification, as well as knowledge production -have a major role in combating this epidemic. Coronaviruses belong to a large family of viruses and, for 60 years, have been a known cause of respiratory infection in humans and animals. In December 2019, a novel coronavirus was identified as responsible for the flu syndrome and severe pulmonary complications, the COVID-19. Its origin, still uncertain, is probably related to a mutation in the coronavirus that infects bats, breaking the genetic barrier to adapt to a new species. The original site of transmission was a seafood and live animal market in the city of Wuhan, China. The first cases were linked to individuals who frequented this market. Later, the virus infected family members and, in geometrical progression, nearby provinces, expanding to several countries in all continents. 1,2 The virus is highly contagious through droplets and contact. Estimates indicate that an infected person can transmit the virus to two to four people. 1 The angiotensin-converting enzyme 2 (ACE2), found in the lower respiratory tract of humans, has been identified as a cellular receptor for SARS-CoV-2 and plays an important role in the pathogenesis and spread of the virus. The S-glycoprotein on the surface of the coronavirus can bind to the ACE2 receptor on the surface of cells, especially lung cells, rich in ACE2 receptors. The ribonucleic acid (RNA) of the viral genome is released inside the cell, starting the encoding of structural and accessory proteins, with subsequent release of new viruses. This process results in the release of cytokines with intense inflammatory response, leading to respiratory failure, shock, and thromboembolic phenomena related to disseminated intravascular coagulation. 3, 4 Children probably develop milder and oligosymptomatic clinical presentations because the maturity and binding ability of ACE2 might be lower in this population than in adults. This is concerning from an epidemiological perspective, since children can be important reservoirs, becoming sources of infection. 4 The incubation period is, on average, five days, ranging from two to 14 days. Most adults or children infected with SARS-CoV-2 present flu syndrome (90%) with mild symptoms, but some individuals, especially older adults and those with comorbidities, such as cardiovascular or lung diseases, diabetes, and hypertension, might progress to severe conditions: respiratory failure, multiple organ failure, and death. The fatality rate is 2 to 5%. 2 Although children can acquire the infection, they usually have a good prognosis and rarely present complications. 4 No country is prepared to face the COVID-19 epidemic, which imposes substantial negative impacts on the economy, medical care, and mental health of the society as a whole. Brazil, particularly São Paulo, which declared a state of emergency, has implemented adequate preventive measures in accordance with the epidemiological scenario. 5 Rigorous social distancing of the population is crucial, in addition to educational campaigns for hygiene and the proper use of masks. Social distancing measures should be constantly evaluated because if they are lifted before the appropriate moment, that is, before the end of community transmission, we will have a new wave and growth in cases of infection. The suspension of academic COVID-19 in university hospitals 5. Brazil -Diário Oficial de São Paulo [homepage on the Internet]. Decreto Nº 64.879 que reconhece o estado de Calamidade Pública no estado por conta da pandemia do Coronavírus (COVID-19) 21 de Março de 2020 [cited 2020 Abr 05]. </td>\n",
              "                        <td id=\"T_f2991dee_963a_11ea_8f74_0242ac1c0002row6_col2\" class=\"data row6 col2\" >0.049704</td>\n",
              "            </tr>\n",
              "            <tr>\n",
              "                        <th id=\"T_f2991dee_963a_11ea_8f74_0242ac1c0002level0_row7\" class=\"row_heading level0 row7\" >7</th>\n",
              "                        <td id=\"T_f2991dee_963a_11ea_8f74_0242ac1c0002row7_col0\" class=\"data row7 col0\" >doe smoke increas risk covid19 .</td>\n",
              "                        <td id=\"T_f2991dee_963a_11ea_8f74_0242ac1c0002row7_col1\" class=\"data row7 col1\" >Background: Porcine epidemic diarrhea virus (PEDV) is emerging as a pathogenic coronavirus that causes a huge economic burden to the swine industry. Interaction of the viral spike (S) surface glycoprotein with the host cell receptor is recognized as the first step of infection and is the main determinant of virus tropism. The mechanisms by which neutralizing antibodies inhibit PEDV have not been defined. Isolating PEDV neutralizing antibodies are crucial to identifying the receptor-binding domains of the viral spike and elucidating the mechanism of protection against PEDV infection. Methods: B cell hybridoma technique was used to generate hybridoma cells that secrete specific antibodies. E.coli prokaryotic expression system and Bac-to-Bac expression system were used to identify the target protein of each monoclonal antibody. qPCR was performed to analyze PEDV binding to Vero E6 cells with neutralizing antibody. Results: We identified 10 monoclonal antibodies using hybridoma technology. Remarkably, 4 mAbs (designed 2G8, 2B11, 3D9, 1E3) neutralized virus infection potently, of which 2B11 and 1E3 targeted the conformational epitope of the PEDV S protein. qPCR results showed that both 2B11 and 2G8 blocked virus entry into Vero cells. Conclusion: The data suggested that PEDV neutralizing antibody inhibited virus infection by binding to infectious virions, which could work as a tool to find the receptor-binding domains. </td>\n",
              "                        <td id=\"T_f2991dee_963a_11ea_8f74_0242ac1c0002row7_col2\" class=\"data row7 col2\" >0.027401</td>\n",
              "            </tr>\n",
              "            <tr>\n",
              "                        <th id=\"T_f2991dee_963a_11ea_8f74_0242ac1c0002level0_row8\" class=\"row_heading level0 row8\" >8</th>\n",
              "                        <td id=\"T_f2991dee_963a_11ea_8f74_0242ac1c0002row8_col0\" class=\"data row8 col0\" >doe smoke increas risk covid19 .</td>\n",
              "                        <td id=\"T_f2991dee_963a_11ea_8f74_0242ac1c0002row8_col1\" class=\"data row8 col1\" >The recent emergence of the Middle East respiratory syndrome (MERS)-CoV, a close relative of the Severe Acute respiratory syndrome (SARS)-CoV, both of which caused a lethal respiratory infection in humans, reinforces the need for further understanding of coronavirus pathogenesis and the host immune response. These viruses have evolved diverse strategies to evade and block host immune responses, facilitating infection and transmission. Pathogenesis following infection with these viruses is characterized by a marked delay in the induction of Type I interferon (IFN I) and, subsequently, by a poor adaptive immune response. Therapies that expedite IFN I induction as well as interventions that antagonize immunoevasive virus proteins are thus promising candidates for immune modulation. </td>\n",
              "                        <td id=\"T_f2991dee_963a_11ea_8f74_0242ac1c0002row8_col2\" class=\"data row8 col2\" >0.021294</td>\n",
              "            </tr>\n",
              "            <tr>\n",
              "                        <th id=\"T_f2991dee_963a_11ea_8f74_0242ac1c0002level0_row9\" class=\"row_heading level0 row9\" >9</th>\n",
              "                        <td id=\"T_f2991dee_963a_11ea_8f74_0242ac1c0002row9_col0\" class=\"data row9 col0\" >mortal rate covid19 .</td>\n",
              "                        <td id=\"T_f2991dee_963a_11ea_8f74_0242ac1c0002row9_col1\" class=\"data row9 col1\" >The recent emergence of the Middle East respiratory syndrome (MERS)-CoV, a close relative of the Severe Acute respiratory syndrome (SARS)-CoV, both of which caused a lethal respiratory infection in humans, reinforces the need for further understanding of coronavirus pathogenesis and the host immune response. These viruses have evolved diverse strategies to evade and block host immune responses, facilitating infection and transmission. Pathogenesis following infection with these viruses is characterized by a marked delay in the induction of Type I interferon (IFN I) and, subsequently, by a poor adaptive immune response. Therapies that expedite IFN I induction as well as interventions that antagonize immunoevasive virus proteins are thus promising candidates for immune modulation. </td>\n",
              "                        <td id=\"T_f2991dee_963a_11ea_8f74_0242ac1c0002row9_col2\" class=\"data row9 col2\" >0.988963</td>\n",
              "            </tr>\n",
              "            <tr>\n",
              "                        <th id=\"T_f2991dee_963a_11ea_8f74_0242ac1c0002level0_row10\" class=\"row_heading level0 row10\" >10</th>\n",
              "                        <td id=\"T_f2991dee_963a_11ea_8f74_0242ac1c0002row10_col0\" class=\"data row10 col0\" >mortal rate covid19 .</td>\n",
              "                        <td id=\"T_f2991dee_963a_11ea_8f74_0242ac1c0002row10_col1\" class=\"data row10 col1\" >Thousands of people in the United States have required testing for SARS-CoV-2. Evaluation for a special pathogen is resource intensive. We report an innovative approach to home assessment that, in collaboration with public health, enables safe evaluation and specimen collection outside the healthcare setting, avoiding unnecessary exposures and resource utilization. </td>\n",
              "                        <td id=\"T_f2991dee_963a_11ea_8f74_0242ac1c0002row10_col2\" class=\"data row10 col2\" >0.983260</td>\n",
              "            </tr>\n",
              "            <tr>\n",
              "                        <th id=\"T_f2991dee_963a_11ea_8f74_0242ac1c0002level0_row11\" class=\"row_heading level0 row11\" >11</th>\n",
              "                        <td id=\"T_f2991dee_963a_11ea_8f74_0242ac1c0002row11_col0\" class=\"data row11 col0\" >mortal rate covid19 .</td>\n",
              "                        <td id=\"T_f2991dee_963a_11ea_8f74_0242ac1c0002row11_col1\" class=\"data row11 col1\" >Aims: To determine analytical capabilities of a commonly used faecal immunochemical test (FIT) to detect haemoglobin (Hb) in the context of NICE guidance DG30, and the likely use of FIT to reprioritise patients delayed by the COVID-19 pandemic. Methods: Data obtained from independent verification studies and clinical testing of the HM-JACKarc FIT method in routine primary care practice were analysed to derive analytical performance characteristics. Results: Detection capabilities for the FIT method were 0.5 µg/g (limit of blank), 1.1 (limit of detection) and 15.0 µg/g (limit of quantification). 31 of 33 (94%) non-homogenised specimens analysed in triplicate were consistently categorised relative to 10 µg/g compared to all 33 (100%) homogenised specimens. Imprecision in non-homogenised specimens was higher (median 27.8%, (range 20.5% -48.6%)) than in homogenised specimens (10. </td>\n",
              "                        <td id=\"T_f2991dee_963a_11ea_8f74_0242ac1c0002row11_col2\" class=\"data row11 col2\" >0.982550</td>\n",
              "            </tr>\n",
              "            <tr>\n",
              "                        <th id=\"T_f2991dee_963a_11ea_8f74_0242ac1c0002level0_row12\" class=\"row_heading level0 row12\" >12</th>\n",
              "                        <td id=\"T_f2991dee_963a_11ea_8f74_0242ac1c0002row12_col0\" class=\"data row12 col0\" >mortal rate covid19 .</td>\n",
              "                        <td id=\"T_f2991dee_963a_11ea_8f74_0242ac1c0002row12_col1\" class=\"data row12 col1\" >Background: Porcine epidemic diarrhea virus (PEDV) is emerging as a pathogenic coronavirus that causes a huge economic burden to the swine industry. Interaction of the viral spike (S) surface glycoprotein with the host cell receptor is recognized as the first step of infection and is the main determinant of virus tropism. The mechanisms by which neutralizing antibodies inhibit PEDV have not been defined. Isolating PEDV neutralizing antibodies are crucial to identifying the receptor-binding domains of the viral spike and elucidating the mechanism of protection against PEDV infection. Methods: B cell hybridoma technique was used to generate hybridoma cells that secrete specific antibodies. E.coli prokaryotic expression system and Bac-to-Bac expression system were used to identify the target protein of each monoclonal antibody. qPCR was performed to analyze PEDV binding to Vero E6 cells with neutralizing antibody. Results: We identified 10 monoclonal antibodies using hybridoma technology. Remarkably, 4 mAbs (designed 2G8, 2B11, 3D9, 1E3) neutralized virus infection potently, of which 2B11 and 1E3 targeted the conformational epitope of the PEDV S protein. qPCR results showed that both 2B11 and 2G8 blocked virus entry into Vero cells. Conclusion: The data suggested that PEDV neutralizing antibody inhibited virus infection by binding to infectious virions, which could work as a tool to find the receptor-binding domains. </td>\n",
              "                        <td id=\"T_f2991dee_963a_11ea_8f74_0242ac1c0002row12_col2\" class=\"data row12 col2\" >0.976338</td>\n",
              "            </tr>\n",
              "            <tr>\n",
              "                        <th id=\"T_f2991dee_963a_11ea_8f74_0242ac1c0002level0_row13\" class=\"row_heading level0 row13\" >13</th>\n",
              "                        <td id=\"T_f2991dee_963a_11ea_8f74_0242ac1c0002row13_col0\" class=\"data row13 col0\" >mortal rate covid19 .</td>\n",
              "                        <td id=\"T_f2991dee_963a_11ea_8f74_0242ac1c0002row13_col1\" class=\"data row13 col1\" >The rapid outbreak of the new Coronavirus pandemic and the spread of the virus worldwide, especially in the Northern Hemisphere, have prompted various investigations about the impact of environmental factors on the rate of development of this epidemic. Different studies have called the attention to various parameters that may have influenced the spread of the virus, and in particular, the impact of climatic parameters has been emphasized. The main purpose of this study is to investigate the correlation between the average daily temperature and the rate of coronavirus epidemic growth in the infected regions. The main hypothesis object of our research is that between regions exhibiting a significant difference in the mean daily temperature, a significant difference is also observed in the average cumulative daily rate of confirmed cases, and that this does not happen if there is no significant difference in mean daily temperature. To test this research hypothesis, we carried on the case study of three regions in each of five countries and analyzed the correlation through F-test, and Independent-Samples T-Test. In all five selected countries, we found that when there is a significant difference in the daily mean temperature between two regions of a country, a significant difference exists also in the average cumulative daily rate of confirmed cases. Conversely, if there are no significant differences in the mean daily temperature of two regions in the same country, no significant difference is observed in the average cumulative daily rate of confirmed cases for these regions. </td>\n",
              "                        <td id=\"T_f2991dee_963a_11ea_8f74_0242ac1c0002row13_col2\" class=\"data row13 col2\" >0.931681</td>\n",
              "            </tr>\n",
              "            <tr>\n",
              "                        <th id=\"T_f2991dee_963a_11ea_8f74_0242ac1c0002level0_row14\" class=\"row_heading level0 row14\" >14</th>\n",
              "                        <td id=\"T_f2991dee_963a_11ea_8f74_0242ac1c0002row14_col0\" class=\"data row14 col0\" >pregnanc complic covid19 .</td>\n",
              "                        <td id=\"T_f2991dee_963a_11ea_8f74_0242ac1c0002row14_col1\" class=\"data row14 col1\" >and subtropical countries and is a significant public health concern and socioeconomic burden. There is an urgent need to develop antivirals that can effectively reduce dengue virus (DENV) replication and decrease viral load. Niclosamide, an antiparasitic drug approved for human use, has been recently identified as an effective antiviral agent against a number of pH-dependent viruses, including flaviviruses. Here, we reveal that neutralization of low-pH intracellular compartments by niclosamide affects multiple steps of the DENV infectious cycle. Specifically, niclosamide-induced endosomal neutralization not only prevents viral RNA replication but also affects the maturation of DENV particles, rendering them non-infectious. We found that niclosamide-induced endosomal neutralization prevented E glycoprotein conformational changes on the virion surface of flaviviruses, resulting in the release of non-infectious immature virus particles with uncleaved pr peptide from host cells. Collectively, our findings support the potential application of niclosamide as an antiviral agent against flavivirus infection and highlight a previously uncharacterized mechanism of action of the drug. Dengue virus (DENV) represents a major mosquito-borne pathogen responsible for significant public health and socioeconomic burden in large regions of tropical and subtropical countries 1,2 . There are four distinct serotypes, DENV-1 to DENV-4, that are transmitted mainly by mosquitoes of Aedes species, which continuously spread to new geographical areas around the world 3 . The World Health Organization estimates a prevalence of 50-100 million cases of DENV infection per year; however, a recent global estimate study suggested that 390 million DENV infections occur annually, of which 96 million cases have clear symptoms 2 . DENV infection causes a wide range of clinical symptoms, from acute febrile illness (dengue fever) to life-threatening haemorrhagic fever/dengue shock syndrome 1 . To date, clinically approved therapeutic options for treating DENV-infected patients are still lacking. DENV is an enveloped, single-stranded, positive-sense RNA virus that belongs to Flavivirus genus in the family Flaviviridae 4 . The genus Flavivirus comprises many important emerging arboviruses including Japanese encephalitis virus, West Nile virus and Zika virus (ZIKV). Recently, ZIKV infection has emerged as a global public health concern due to its association with newborn microcephaly 5,6 and neurological sequelae such as Guillain-Barré syndrome, meningoencephalitis, and myelitis in infected adults 6-10 . The flavivirus genome is approximately 11 kb in length and encodes a polyprotein that is processed into three structural (capsid [C], premembrane [prM], and envelope [E]) and seven non-structural proteins (NS1, NS2A, NS2B, NS3, NS4A, NS4B, www.nature.com/scientificreports www.nature.com/scientificreports/ and NS5) by cellular and viral proteases 11,12 . Flavivirus infection is initiated by attachment of the virus to a cellular receptor on the plasma membrane followed by receptor-mediated endocytosis and transportation of viral particles to endosomes 13, 14 . Viral membrane fusion with the endosomal membrane is triggered upon exposure of the virus to the low-pH environment of endosomes, through which the viral genome is released into the cytoplasm 15-19 . Following RNA replication and protein translation, immature virions containing prM proteins are assembled within the endoplasmic reticulum (ER) and mature through passaging the acidic environment of the trans-Golgi network (TGN), wherein E proteins undergo conformational changes and the pr peptides are cleaved by furin endoproteases, after which progeny virions are released from the host cell 20-24 . It is well established that neutralization of the acidic TGN environment prevents furin cleavage, resulting in immature particles containing uncleaved prM proteins [25] [26] [27] . These immature particles are non-infectious since the uncleaved prM peptides block the low-pH-induced conformational changes of the viral E proteins essential for binding to the cell surface as well as membrane fusion of the virus during entry 23, 26, 28, 29 . Thus, several studies have shown that lysosomotropic agents, such as chloroquine, exert modest antiviral effects against pH-dependent viruses, including flaviviruses, by interfering with endosomal fusion and furin-dependent maturation in vivo and in vitro 23,30-32 . Recently, niclosamide, a U.S. Food and Drug Administration (FDA)-approved antiparasitic drug used in humans 33-35 , has been identified as an effective antiviral agent against a number of pH-dependent viruses, such as human rhinoviruses and influenza virus 36 , severe acute respiratory syndrome-coronavirus 37 , Chikungunya virus 38 , and flaviviruses [39] [40] [41] . These studies suggested that the broad antiviral activity of niclosamide is associated with neutralization of endo-lysosomal pH that interferes with pH-dependent membrane fusion which is a critical step for virus entry 36 . In a recent study, Kao et al. 41 , determined the inhibitory role of endosomal deacidification in DENV viral genome replication and uncoating but not in later steps of the viral life cycle. Therefore, the possible effect of niclosamide-induced neutralization of endosomal compartments on later stages of the DENV infectious cycle remains to be elucidated. In this study, we investigated and confirmed that the neutralization of low-pH intracellular compartments by niclosamide affects multiple steps of the DENV infectious cycle. Our data indicate that niclosamide-induced endosomal neutralization prevents viral genome release and replication as well as maturation of DENV particles rendering it non-infectious. Specifically, we found that niclosamide-induced endosomal neutralization blocks conformational changes of E glycoproteins on the virion surface of both DENV and ZIKV, resulting in the release of immature virus particles with uncleaved pr peptide and preventing them from infecting new host cells. Collectively, our findings support the potential application of niclosamide as an antiviral agent against flavivirus infection and highlight a previously uncharacterized mechanism of action of the drug. Scientific RepoRts | (2019) 9:8682 | https://doi. </td>\n",
              "                        <td id=\"T_f2991dee_963a_11ea_8f74_0242ac1c0002row14_col2\" class=\"data row14 col2\" >0.059527</td>\n",
              "            </tr>\n",
              "            <tr>\n",
              "                        <th id=\"T_f2991dee_963a_11ea_8f74_0242ac1c0002level0_row15\" class=\"row_heading level0 row15\" >15</th>\n",
              "                        <td id=\"T_f2991dee_963a_11ea_8f74_0242ac1c0002row15_col0\" class=\"data row15 col0\" >pregnanc complic covid19 .</td>\n",
              "                        <td id=\"T_f2991dee_963a_11ea_8f74_0242ac1c0002row15_col1\" class=\"data row15 col1\" >Currently, live-attenuated IBV vaccines are used to control the disease. However, safety, attenuation and immunization outcomes of current vaccines are not guaranteed. Several studies indicate that attenuated IBV vaccine strains contribute to the emergence of variant viruses in the field due to mutations and recombination. Therefore, there is a need to develop a stable and safe IBV vaccine that will not create variant viruses. In this study, we generated recombinant Newcastle disease viruses (rNDVs) expressing the S1, S2 and S proteins of IBV using reverse genetics technology. Our results showed that the rNDV expressing the S protein of IBV provided better protection than the rNDV expressing S1 or S2 protein of IBV, indicating that the S protein is the best protective antigen of IBV. Immunization of 4-week-old SPF chickens with the rNDV expressing S protein elicited IBV-specific neutralizing antibodies and provided complete protection against virulent IBV and virulent NDV challenges. These results suggest that the rNDV expressing the S protein of IBV is a safe and effective bivalent vaccine candidate for both IBV and NDV. Infectious Bronchitis (IB) is an acute and highly contagious viral respiratory disease of chickens 1,2 . IB causes major economic losses in commercial chickens throughout the world 1,3 . It is one of the most prevalent diseases in the poultry industry. The disease is usually characterized by respiratory signs including ocular and nasal discharges, gasping, coughing and sneezing. However, the virus can also infect urogenital and reproductive tracts causing renal dysfunction and decreased egg production 3,4 . IB is caused by infectious bronchitis virus (IBV), a member of the family Coronaviridae. The genome of IBV is a single stranded, positive-sense RNA of approximately 27.6 kb in length. It encodes five major structural proteins: spike (S), small envelope (E), membrane (M), nucleocapsid (N) and fifteen non-structural proteins. The S glycoprotein is the major antigen against which neutralizing and protective antibodies are produced. The S protein is partially or completely cleaved into the amino-terminal S1 and to the carboxy-terminal S2 subunits post translationally by a furine-like protease of host 4,5 . The S1 subunit is highly variable among different isolates of IBV. It is responsible for viral attachment to host cell and contains major neutralizing epitopes. The S2 subunit is highly conserved among IBV strains and contributes to viral fusion activity and elicits some minor but broadly reactive neutralizing antibodies 5-10 . Currently IB in commercial chickens is controlled by the use of live-attenuated and inactivated IBV vaccines. However, safety, attenuation and immunization outcomes of current live-attenuated vaccines which, were developed by serial passaging of field isolates of IBV in chicken embryonated eggs, are not guaranteed, particularly with regards to the age at immunization, vaccine dose, type of bird and route of vaccination 11 . Live vaccines have been found as one of the sources of IB outbreaks 12 . Live-attenuated vaccine strains also are not genetically stable and have a tendency to revert back to virulence 13,14 . Furthermore, circulation of live-attenuated viruses in the environment provides a setting in which the viral population may undergo mutations and recombination leading to creation of variant viruses 15,16 . Moreover, live IBV vaccines may cause pathological lesions or secondary bacterial infections in young vaccinated chicks 17, 18 . Inactivated IBV vaccines, which usually are administered by injection to layers and breeders are not an alternative for live-attenuated IBV vaccines. Inactivated vaccines of IBV do not elicit strong immune responses in chickens against circulating virulent IBV strains 19, 20 . The production and administration of inactivated vaccines are also time consuming and costly 13, 14 . Therefore, there is a great need to develop an alternative IBV vaccine. Development of viral vectored vaccines to control IB is an alternative approach. One of the important advantages of vectored IBV vaccines is that it will not create variant viruses, which is a major drawback of the current live-attenuated IBV vaccines. Several viruses, such as, fowl pox virus, adenovirus and Newcastle disease virus (NDV) have been evaluated as vaccine vectors for IBV 21-25 . Among these viral vectors NDV holds great promise, because it induces effective local and systemic immune responses, it is a safe vaccine vector, and it will serve as a bivalent vaccine against IBV and NDV. NDV belongs to the genus Avulavirus in the family Paramyxoviridae. Virulent NDV strains cause a fatal neurological disease in chickens. NDV strain LaSota has been used as a safe and effective live vaccine for more than 60 years 26, 27 . Recombinant NDV strain LaSota has been evaluated as a vaccine vector against several avian pathogens including IBV 28-32 . In one study, rNDV expressing S2 protein of IBV was found to induce partial protection against a virulent IBV challenge 23 . In another study, it was shown that rNDV expressing S1 protein of IBV resulted in inducing protective immunity against virulent IBV challenge 24 . However, the protective efficacy of the whole S protein of IBV expressed by rNDV vector has not been evaluated and it is also not known among S1, S2 and S proteins of IBV, which is the best protective antigen for the development of viral vectored IBV vaccines. In this study, we have used reverse genetics to generate rNDVs expressing S1, S2 and S proteins of IBV strain Mass-41. The protective efficacies of rNDVs expressing S1, S2 or S protein of IBV were compared in chickens against a virulent IBV strain Mass-41 challenge. Our results showed that the whole S protein is the best protective antigen of IBV. We also showed that rNDV strain LaSota expressing the S protein of IBV strain Mass-41 protects chickens against both virulent IBV and virulent NDV challenges. </td>\n",
              "                        <td id=\"T_f2991dee_963a_11ea_8f74_0242ac1c0002row15_col2\" class=\"data row15 col2\" >0.058529</td>\n",
              "            </tr>\n",
              "            <tr>\n",
              "                        <th id=\"T_f2991dee_963a_11ea_8f74_0242ac1c0002level0_row16\" class=\"row_heading level0 row16\" >16</th>\n",
              "                        <td id=\"T_f2991dee_963a_11ea_8f74_0242ac1c0002row16_col0\" class=\"data row16 col0\" >pregnanc complic covid19 .</td>\n",
              "                        <td id=\"T_f2991dee_963a_11ea_8f74_0242ac1c0002row16_col1\" class=\"data row16 col1\" >Aims: To determine analytical capabilities of a commonly used faecal immunochemical test (FIT) to detect haemoglobin (Hb) in the context of NICE guidance DG30, and the likely use of FIT to reprioritise patients delayed by the COVID-19 pandemic. Methods: Data obtained from independent verification studies and clinical testing of the HM-JACKarc FIT method in routine primary care practice were analysed to derive analytical performance characteristics. Results: Detection capabilities for the FIT method were 0.5 µg/g (limit of blank), 1.1 (limit of detection) and 15.0 µg/g (limit of quantification). 31 of 33 (94%) non-homogenised specimens analysed in triplicate were consistently categorised relative to 10 µg/g compared to all 33 (100%) homogenised specimens. Imprecision in non-homogenised specimens was higher (median 27.8%, (range 20.5% -48.6%)) than in homogenised specimens (10. </td>\n",
              "                        <td id=\"T_f2991dee_963a_11ea_8f74_0242ac1c0002row16_col2\" class=\"data row16 col2\" >0.053628</td>\n",
              "            </tr>\n",
              "            <tr>\n",
              "                        <th id=\"T_f2991dee_963a_11ea_8f74_0242ac1c0002level0_row17\" class=\"row_heading level0 row17\" >17</th>\n",
              "                        <td id=\"T_f2991dee_963a_11ea_8f74_0242ac1c0002row17_col0\" class=\"data row17 col0\" >pregnanc complic covid19 .</td>\n",
              "                        <td id=\"T_f2991dee_963a_11ea_8f74_0242ac1c0002row17_col1\" class=\"data row17 col1\" >Thousands of people in the United States have required testing for SARS-CoV-2. Evaluation for a special pathogen is resource intensive. We report an innovative approach to home assessment that, in collaboration with public health, enables safe evaluation and specimen collection outside the healthcare setting, avoiding unnecessary exposures and resource utilization. </td>\n",
              "                        <td id=\"T_f2991dee_963a_11ea_8f74_0242ac1c0002row17_col2\" class=\"data row17 col2\" >0.052709</td>\n",
              "            </tr>\n",
              "            <tr>\n",
              "                        <th id=\"T_f2991dee_963a_11ea_8f74_0242ac1c0002level0_row18\" class=\"row_heading level0 row18\" >18</th>\n",
              "                        <td id=\"T_f2991dee_963a_11ea_8f74_0242ac1c0002row18_col0\" class=\"data row18 col0\" >pregnanc complic covid19 .</td>\n",
              "                        <td id=\"T_f2991dee_963a_11ea_8f74_0242ac1c0002row18_col1\" class=\"data row18 col1\" >The recent emergence of the Middle East respiratory syndrome (MERS)-CoV, a close relative of the Severe Acute respiratory syndrome (SARS)-CoV, both of which caused a lethal respiratory infection in humans, reinforces the need for further understanding of coronavirus pathogenesis and the host immune response. These viruses have evolved diverse strategies to evade and block host immune responses, facilitating infection and transmission. Pathogenesis following infection with these viruses is characterized by a marked delay in the induction of Type I interferon (IFN I) and, subsequently, by a poor adaptive immune response. Therapies that expedite IFN I induction as well as interventions that antagonize immunoevasive virus proteins are thus promising candidates for immune modulation. </td>\n",
              "                        <td id=\"T_f2991dee_963a_11ea_8f74_0242ac1c0002row18_col2\" class=\"data row18 col2\" >0.039363</td>\n",
              "            </tr>\n",
              "    </tbody></table>"
            ],
            "text/plain": [
              "<pandas.io.formats.style.Styler at 0x7f473ce8ee48>"
            ]
          },
          "metadata": {
            "tags": []
          },
          "execution_count": 24
        }
      ]
    },
    {
      "cell_type": "markdown",
      "metadata": {
        "id": "RKzCwBHnYhz2",
        "colab_type": "text"
      },
      "source": [
        "## BERT"
      ]
    },
    {
      "cell_type": "code",
      "metadata": {
        "id": "rGqk7k8wYkBe",
        "colab_type": "code",
        "colab": {}
      },
      "source": [
        "from sentence_transformers import SentenceTransformer\n",
        "from query_model.query_engines import BERTQueryEngine"
      ],
      "execution_count": 0,
      "outputs": []
    },
    {
      "cell_type": "code",
      "metadata": {
        "id": "JHRR_cJSSQ4D",
        "colab_type": "code",
        "outputId": "6f588887-31ad-422e-d99f-79225b2e7f6a",
        "colab": {
          "base_uri": "https://localhost:8080/",
          "height": 34
        }
      },
      "source": [
        "import torch\n",
        "torch.cuda.get_device_name(0)"
      ],
      "execution_count": 46,
      "outputs": [
        {
          "output_type": "execute_result",
          "data": {
            "text/plain": [
              "'Tesla P100-PCIE-16GB'"
            ]
          },
          "metadata": {
            "tags": []
          },
          "execution_count": 46
        }
      ]
    },
    {
      "cell_type": "code",
      "metadata": {
        "id": "nfbt3quqo2tH",
        "colab_type": "code",
        "colab": {
          "base_uri": "https://localhost:8080/",
          "height": 34
        },
        "outputId": "f31b302c-afaa-41e9-b180-884bbf7a46f9"
      },
      "source": [
        "query_engine = BERTQueryEngine()\n",
        "query_engine.fit(abstracts)"
      ],
      "execution_count": 47,
      "outputs": [
        {
          "output_type": "stream",
          "text": [
            "100%|██████████| 405M/405M [00:45<00:00, 8.91MB/s]\n"
          ],
          "name": "stderr"
        }
      ]
    },
    {
      "cell_type": "code",
      "metadata": {
        "id": "h5nzrjIHpWIT",
        "colab_type": "code",
        "colab": {}
      },
      "source": [
        "# If you want to load already trained model\n",
        "#query_engine = BERTQueryEngine.load('/content/drive/My Drive/APT/trained_models/BERT.dat')"
      ],
      "execution_count": 0,
      "outputs": []
    },
    {
      "cell_type": "code",
      "metadata": {
        "id": "ydloUXVJpgrK",
        "colab_type": "code",
        "outputId": "6aa62fee-511c-4e9d-f49c-5f89a81de376",
        "colab": {
          "base_uri": "https://localhost:8080/",
          "height": 34
        }
      },
      "source": [
        "query_engine.save('/content/drive/My Drive/APT/trained_models/', 'BERT')"
      ],
      "execution_count": 0,
      "outputs": [
        {
          "output_type": "stream",
          "text": [
            "Writing object to /content/drive/My Drive/APT/trained_models/BERT.dat\n"
          ],
          "name": "stdout"
        }
      ]
    },
    {
      "cell_type": "code",
      "metadata": {
        "id": "d83fXLKh97Iq",
        "colab_type": "code",
        "colab": {}
      },
      "source": [
        "res = run_queries(query_engine, queries)\n",
        "res.reset_index(drop=True)[['query', 'text', 'sim']].style.set_properties(**{'font-size': '9pt'})"
      ],
      "execution_count": 0,
      "outputs": []
    }
  ]
}