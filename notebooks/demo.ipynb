{
  "nbformat": 4,
  "nbformat_minor": 0,
  "metadata": {
    "colab": {
      "name": "demo.ipynb",
      "provenance": [],
      "collapsed_sections": [],
      "toc_visible": true
    },
    "kernelspec": {
      "name": "python3",
      "display_name": "Python 3"
    },
    "accelerator": "GPU"
  },
  "cells": [
    {
      "cell_type": "code",
      "metadata": {
        "id": "RYSxORPohKwV",
        "colab_type": "code",
        "outputId": "2a579ed8-423f-4b95-88bf-93f78bb4360b",
        "colab": {
          "base_uri": "https://localhost:8080/",
          "height": 125
        }
      },
      "source": [
        "from google.colab import drive\n",
        "drive.mount('/content/drive')"
      ],
      "execution_count": 1,
      "outputs": [
        {
          "output_type": "stream",
          "text": [
            "Go to this URL in a browser: https://accounts.google.com/o/oauth2/auth?client_id=947318989803-6bn6qk8qdgf4n4g3pfee6491hc0brc4i.apps.googleusercontent.com&redirect_uri=urn%3aietf%3awg%3aoauth%3a2.0%3aoob&response_type=code&scope=email%20https%3a%2f%2fwww.googleapis.com%2fauth%2fdocs.test%20https%3a%2f%2fwww.googleapis.com%2fauth%2fdrive%20https%3a%2f%2fwww.googleapis.com%2fauth%2fdrive.photos.readonly%20https%3a%2f%2fwww.googleapis.com%2fauth%2fpeopleapi.readonly\n",
            "\n",
            "Enter your authorization code:\n",
            "··········\n",
            "Mounted at /content/drive\n"
          ],
          "name": "stdout"
        }
      ]
    },
    {
      "cell_type": "code",
      "metadata": {
        "id": "eRZaNBLei2Ch",
        "colab_type": "code",
        "colab": {}
      },
      "source": [
        "import sys\n",
        "sys.path.append('/content/drive/My Drive/APT/TAR-project-master')"
      ],
      "execution_count": 0,
      "outputs": []
    },
    {
      "cell_type": "code",
      "metadata": {
        "id": "1KOCvWKfXn38",
        "colab_type": "code",
        "outputId": "30f1d907-bff5-4707-9497-7afc212fed52",
        "colab": {
          "base_uri": "https://localhost:8080/",
          "height": 123
        }
      },
      "source": [
        "pip install num2words"
      ],
      "execution_count": 3,
      "outputs": [
        {
          "output_type": "stream",
          "text": [
            "Collecting num2words\n",
            "\u001b[?25l  Downloading https://files.pythonhosted.org/packages/eb/a2/ea800689730732e27711c41beed4b2a129b34974435bdc450377ec407738/num2words-0.5.10-py3-none-any.whl (101kB)\n",
            "\r\u001b[K     |███▎                            | 10kB 19.9MB/s eta 0:00:01\r\u001b[K     |██████▌                         | 20kB 6.1MB/s eta 0:00:01\r\u001b[K     |█████████▊                      | 30kB 7.5MB/s eta 0:00:01\r\u001b[K     |█████████████                   | 40kB 8.3MB/s eta 0:00:01\r\u001b[K     |████████████████▏               | 51kB 7.1MB/s eta 0:00:01\r\u001b[K     |███████████████████▍            | 61kB 8.1MB/s eta 0:00:01\r\u001b[K     |██████████████████████▋         | 71kB 8.3MB/s eta 0:00:01\r\u001b[K     |█████████████████████████▉      | 81kB 8.8MB/s eta 0:00:01\r\u001b[K     |█████████████████████████████   | 92kB 8.0MB/s eta 0:00:01\r\u001b[K     |████████████████████████████████| 102kB 5.7MB/s \n",
            "\u001b[?25hRequirement already satisfied: docopt>=0.6.2 in /usr/local/lib/python3.6/dist-packages (from num2words) (0.6.2)\n",
            "Installing collected packages: num2words\n",
            "Successfully installed num2words-0.5.10\n"
          ],
          "name": "stdout"
        }
      ]
    },
    {
      "cell_type": "code",
      "metadata": {
        "id": "wIE6I5C8z9zC",
        "colab_type": "code",
        "outputId": "d5b3f59c-65de-489c-dd4c-3d0af533d609",
        "colab": {
          "base_uri": "https://localhost:8080/",
          "height": 87
        }
      },
      "source": [
        "import pandas as pd\n",
        "import numpy as np\n",
        "import nltk\n",
        "\n",
        "nltk.download('stopwords')\n",
        "nltk.download('punkt')\n",
        "\n",
        "from dataset.preprocessing.preprocessing import word_stem"
      ],
      "execution_count": 4,
      "outputs": [
        {
          "output_type": "stream",
          "text": [
            "[nltk_data] Downloading package stopwords to /root/nltk_data...\n",
            "[nltk_data]   Unzipping corpora/stopwords.zip.\n",
            "[nltk_data] Downloading package punkt to /root/nltk_data...\n",
            "[nltk_data]   Unzipping tokenizers/punkt.zip.\n"
          ],
          "name": "stdout"
        }
      ]
    },
    {
      "cell_type": "code",
      "metadata": {
        "id": "04K9tbjbP-QF",
        "colab_type": "code",
        "colab": {
          "base_uri": "https://localhost:8080/",
          "height": 197
        },
        "outputId": "518a792e-7a6d-4644-be31-55a16aed064c"
      },
      "source": [
        "abstracts_path = '/content/drive/My Drive/APT/temp_data/english_covid_abstracts_data.csv'\n",
        "abstracts = pd.read_csv(abstracts_path)\n",
        "abstracts.head()"
      ],
      "execution_count": 5,
      "outputs": [
        {
          "output_type": "execute_result",
          "data": {
            "text/html": [
              "<div>\n",
              "<style scoped>\n",
              "    .dataframe tbody tr th:only-of-type {\n",
              "        vertical-align: middle;\n",
              "    }\n",
              "\n",
              "    .dataframe tbody tr th {\n",
              "        vertical-align: top;\n",
              "    }\n",
              "\n",
              "    .dataframe thead th {\n",
              "        text-align: right;\n",
              "    }\n",
              "</style>\n",
              "<table border=\"1\" class=\"dataframe\">\n",
              "  <thead>\n",
              "    <tr style=\"text-align: right;\">\n",
              "      <th></th>\n",
              "      <th>paper_id</th>\n",
              "      <th>section</th>\n",
              "      <th>text</th>\n",
              "      <th>preprocessed_text</th>\n",
              "    </tr>\n",
              "  </thead>\n",
              "  <tbody>\n",
              "    <tr>\n",
              "      <th>0</th>\n",
              "      <td>86a998617c077f4fe2ab26214995a3548fbc0fc5</td>\n",
              "      <td>Abstract</td>\n",
              "      <td>The recent emergence of the Middle East respir...</td>\n",
              "      <td>the recent emerg middl east respiratori syndro...</td>\n",
              "    </tr>\n",
              "    <tr>\n",
              "      <th>1</th>\n",
              "      <td>306ef95a3a91e13a93bcc37fb2c509b67c0b5640</td>\n",
              "      <td>Abstract</td>\n",
              "      <td>Thousands of people in the United States have ...</td>\n",
              "      <td>thousand peopl unit state requir test sars-cov...</td>\n",
              "    </tr>\n",
              "    <tr>\n",
              "      <th>2</th>\n",
              "      <td>5e0c586f047ff909c8ed3fe171c8975a90608d08</td>\n",
              "      <td>Abstract</td>\n",
              "      <td>Background: Porcine epidemic diarrhea virus (P...</td>\n",
              "      <td>background porcin epidem diarrhea viru pedv em...</td>\n",
              "    </tr>\n",
              "    <tr>\n",
              "      <th>3</th>\n",
              "      <td>1579fbff7af9b156c6f49fee0526e48f852ea460</td>\n",
              "      <td>Abstract</td>\n",
              "      <td>Currently, live-attenuated IBV vaccines are us...</td>\n",
              "      <td>current live-attenu ibv vaccin use control dis...</td>\n",
              "    </tr>\n",
              "    <tr>\n",
              "      <th>4</th>\n",
              "      <td>f6b29be971089bfe0916c64ab9fbddcec38a7436</td>\n",
              "      <td>Abstract</td>\n",
              "      <td>Aims: To determine analytical capabilities of ...</td>\n",
              "      <td>aim determin analyt capabl commonli use faecal...</td>\n",
              "    </tr>\n",
              "  </tbody>\n",
              "</table>\n",
              "</div>"
            ],
            "text/plain": [
              "                                   paper_id  ...                                  preprocessed_text\n",
              "0  86a998617c077f4fe2ab26214995a3548fbc0fc5  ...  the recent emerg middl east respiratori syndro...\n",
              "1  306ef95a3a91e13a93bcc37fb2c509b67c0b5640  ...  thousand peopl unit state requir test sars-cov...\n",
              "2  5e0c586f047ff909c8ed3fe171c8975a90608d08  ...  background porcin epidem diarrhea viru pedv em...\n",
              "3  1579fbff7af9b156c6f49fee0526e48f852ea460  ...  current live-attenu ibv vaccin use control dis...\n",
              "4  f6b29be971089bfe0916c64ab9fbddcec38a7436  ...  aim determin analyt capabl commonli use faecal...\n",
              "\n",
              "[5 rows x 4 columns]"
            ]
          },
          "metadata": {
            "tags": []
          },
          "execution_count": 5
        }
      ]
    },
    {
      "cell_type": "markdown",
      "metadata": {
        "id": "wTNHbo4bJIW-",
        "colab_type": "text"
      },
      "source": [
        "## Queries"
      ]
    },
    {
      "cell_type": "code",
      "metadata": {
        "id": "CTIaN4ieJLp1",
        "colab_type": "code",
        "colab": {}
      },
      "source": [
        "queries = [\n",
        "           \"incubation period of COVID-19\",\n",
        "           \"Does smoking increase risks when having covid19?\",\n",
        "           \"mortality rate of covid19?\",\n",
        "           \"pregnancy complications covid19?\"\n",
        "]\n",
        "\n",
        "def run_queries(query_engine, queries, k=5):\n",
        "  results = query_engine.run_query(queries[0], k)\n",
        "  if len(queries) > 1:\n",
        "    for q in queries[1:]:\n",
        "      results = pd.concat([results, query_engine.run_query(q, k)])\n",
        "  return results"
      ],
      "execution_count": 0,
      "outputs": []
    },
    {
      "cell_type": "markdown",
      "metadata": {
        "id": "lIvXiwn3YqFQ",
        "colab_type": "text"
      },
      "source": [
        "## TF-IDF"
      ]
    },
    {
      "cell_type": "code",
      "metadata": {
        "id": "7fAUrRK-YtD6",
        "colab_type": "code",
        "colab": {}
      },
      "source": [
        "from nltk.corpus import stopwords\n",
        "from query_model.queries import BOWQueryEngine\n",
        "from sklearn.feature_extraction.text import CountVectorizer, TfidfTransformer\n",
        "from query_model.transformers.bm25 import BM25Transformer"
      ],
      "execution_count": 0,
      "outputs": []
    },
    {
      "cell_type": "code",
      "metadata": {
        "id": "sIARuVWskfxo",
        "colab_type": "code",
        "colab": {}
      },
      "source": [
        "stop_words = set(stopwords.words('english'))\n",
        "cv = CountVectorizer(stop_words=stop_words)\n",
        "transformer = TfidfTransformer(smooth_idf=True, use_idf=True)\n",
        "query_engine = BOWQueryEngine(cv, transformer)\n",
        "query_engine.fit(abstracts)"
      ],
      "execution_count": 0,
      "outputs": []
    },
    {
      "cell_type": "code",
      "metadata": {
        "id": "QYpvVhnOOT9J",
        "colab_type": "code",
        "colab": {}
      },
      "source": [
        "# If you want to load already trained model\n",
        "# query_engine = BOWQueryEngine.load('/content/drive/My Drive/APT/trained_models/tf_idf.dat')"
      ],
      "execution_count": 0,
      "outputs": []
    },
    {
      "cell_type": "code",
      "metadata": {
        "id": "-zSGQHCW5_av",
        "colab_type": "code",
        "colab": {
          "base_uri": "https://localhost:8080/",
          "height": 34
        },
        "outputId": "890ea7ce-77fa-4d36-e2ee-3ea4e38c3027"
      },
      "source": [
        "# query_engine.save('/content/drive/My Drive/APT/trained_models/', 'tf_idf')"
      ],
      "execution_count": 10,
      "outputs": [
        {
          "output_type": "stream",
          "text": [
            "Writing object to /content/drive/My Drive/APT/trained_models/tf_idf.dat\n"
          ],
          "name": "stdout"
        }
      ]
    },
    {
      "cell_type": "code",
      "metadata": {
        "id": "R68KafrMkvSy",
        "colab_type": "code",
        "colab": {}
      },
      "source": [
        "res = run_queries(query_engine, queries)\n",
        "res.reset_index(drop=True)[['query', 'text', 'sim']].style.set_properties(**{'font-size': '9pt'})"
      ],
      "execution_count": 0,
      "outputs": []
    },
    {
      "cell_type": "markdown",
      "metadata": {
        "id": "M9YD5x9_Yt7I",
        "colab_type": "text"
      },
      "source": [
        "## BM25"
      ]
    },
    {
      "cell_type": "code",
      "metadata": {
        "id": "RSCKl2XjiX6d",
        "colab_type": "code",
        "colab": {}
      },
      "source": [
        "from nltk.corpus import stopwords\n",
        "from query_model.queries import BOWQueryEngine\n",
        "from sklearn.feature_extraction.text import CountVectorizer\n",
        "from query_model.transformers.bm25 import BM25Transformer"
      ],
      "execution_count": 0,
      "outputs": []
    },
    {
      "cell_type": "code",
      "metadata": {
        "id": "n8DiXxUNYyHW",
        "colab_type": "code",
        "colab": {}
      },
      "source": [
        "stop_words = set(stopwords.words('english'))\n",
        "cv = CountVectorizer(stop_words=stop_words)\n",
        "transformer = BM25Transformer()\n",
        "query_engine = BOWQueryEngine(cv, transformer)\n",
        "query_engine.fit(abstracts)"
      ],
      "execution_count": 0,
      "outputs": []
    },
    {
      "cell_type": "code",
      "metadata": {
        "id": "518TSLpbL_6N",
        "colab_type": "code",
        "colab": {}
      },
      "source": [
        "# If you want to load already trained model\n",
        "# query_engine = BOWQueryEngine.load('/content/drive/My Drive/APT/trained_models/bm25.dat')"
      ],
      "execution_count": 0,
      "outputs": []
    },
    {
      "cell_type": "code",
      "metadata": {
        "id": "UlAFTktdNzsa",
        "colab_type": "code",
        "colab": {}
      },
      "source": [
        "# query_engine.save('/content/drive/My Drive/APT/trained_models/', 'bm25')"
      ],
      "execution_count": 0,
      "outputs": []
    },
    {
      "cell_type": "code",
      "metadata": {
        "id": "gSB7ly51NVlW",
        "colab_type": "code",
        "colab": {}
      },
      "source": [
        "res = run_queries(query_engine, queries)\n",
        "res.reset_index(drop=True)[['query', 'text', 'sim']].style.set_properties(**{'font-size': '9pt'})"
      ],
      "execution_count": 0,
      "outputs": []
    },
    {
      "cell_type": "markdown",
      "metadata": {
        "id": "9yONZOt55tvW",
        "colab_type": "text"
      },
      "source": [
        "## Word2Vec"
      ]
    },
    {
      "cell_type": "code",
      "metadata": {
        "id": "SNpS-33p5uBp",
        "colab_type": "code",
        "colab": {}
      },
      "source": [
        "from query_model.transformers.word2vec import W2VQueryEngine"
      ],
      "execution_count": 0,
      "outputs": []
    },
    {
      "cell_type": "code",
      "metadata": {
        "id": "R2lHR5hV5xO7",
        "colab_type": "code",
        "colab": {}
      },
      "source": [
        "# TODO train...\n",
        "query_engine = W2VQueryEngine()\n",
        "query_engine.fit(abstracts[:10])"
      ],
      "execution_count": 0,
      "outputs": []
    },
    {
      "cell_type": "code",
      "metadata": {
        "id": "4e1m9Q8MPqB2",
        "colab_type": "code",
        "colab": {}
      },
      "source": [
        "# If you want to load already trained model\n",
        "#query_engine = W2VQueryEngine.load('/content/drive/My Drive/APT/trained_models/w2v.dat')"
      ],
      "execution_count": 0,
      "outputs": []
    },
    {
      "cell_type": "code",
      "metadata": {
        "id": "6UC4LTiaPKRy",
        "colab_type": "code",
        "colab": {
          "base_uri": "https://localhost:8080/",
          "height": 34
        },
        "outputId": "2075d012-8678-4141-9ed7-c50669de180c"
      },
      "source": [
        "query_engine.save('/content/drive/My Drive/APT/trained_models/', 'w2v')"
      ],
      "execution_count": 9,
      "outputs": [
        {
          "output_type": "stream",
          "text": [
            "Writing object to /content/drive/My Drive/APT/trained_models/w2v.dat\n"
          ],
          "name": "stdout"
        }
      ]
    },
    {
      "cell_type": "code",
      "metadata": {
        "id": "Zn_IFHN8PTrv",
        "colab_type": "code",
        "colab": {}
      },
      "source": [
        "res = run_queries(query_engine, queries)\n",
        "res.reset_index(drop=True)[['query', 'text', 'sim']].style.set_properties(**{'font-size': '9pt'})"
      ],
      "execution_count": 0,
      "outputs": []
    },
    {
      "cell_type": "markdown",
      "metadata": {
        "id": "eq8EA4nrYRxT",
        "colab_type": "text"
      },
      "source": [
        "## Doc2Vec"
      ]
    },
    {
      "cell_type": "code",
      "metadata": {
        "id": "VEdGZJScRpnC",
        "colab_type": "code",
        "colab": {}
      },
      "source": [
        "from query_model.transformers.doc2vec import D2VQueryEngine"
      ],
      "execution_count": 0,
      "outputs": []
    },
    {
      "cell_type": "code",
      "metadata": {
        "id": "5jfk8x6oREbc",
        "colab_type": "code",
        "colab": {}
      },
      "source": [
        "# TODO train...\n",
        "query_engine = D2VQueryEngine()\n",
        "query_engine.fit(abstracts)"
      ],
      "execution_count": 0,
      "outputs": []
    },
    {
      "cell_type": "code",
      "metadata": {
        "id": "gJr4ActUQVDa",
        "colab_type": "code",
        "colab": {}
      },
      "source": [
        "# If you want to load already trained model\n",
        "#query_engine = D2VQueryEngine.load('/content/drive/My Drive/APT/trained_models/d2v.dat')"
      ],
      "execution_count": 0,
      "outputs": []
    },
    {
      "cell_type": "code",
      "metadata": {
        "id": "zvOOC2nXQW3g",
        "colab_type": "code",
        "colab": {
          "base_uri": "https://localhost:8080/",
          "height": 34
        },
        "outputId": "fd120cb2-9859-4471-bd00-9eca5a579edf"
      },
      "source": [
        "query_engine.save('/content/drive/My Drive/APT/trained_models/', 'd2v')"
      ],
      "execution_count": 14,
      "outputs": [
        {
          "output_type": "stream",
          "text": [
            "Writing object to /content/drive/My Drive/APT/trained_models/d2v.dat\n"
          ],
          "name": "stdout"
        }
      ]
    },
    {
      "cell_type": "code",
      "metadata": {
        "id": "YkxcYafnQbYn",
        "colab_type": "code",
        "colab": {}
      },
      "source": [
        "res = run_queries(query_engine, queries)\n",
        "res.reset_index(drop=True)[['query', 'text', 'sim']].style.set_properties(**{'font-size': '9pt'})"
      ],
      "execution_count": 0,
      "outputs": []
    },
    {
      "cell_type": "markdown",
      "metadata": {
        "id": "RKzCwBHnYhz2",
        "colab_type": "text"
      },
      "source": [
        "## BERT"
      ]
    },
    {
      "cell_type": "code",
      "metadata": {
        "id": "lryJENvto7mO",
        "colab_type": "code",
        "colab": {}
      },
      "source": [
        "pip install -U sentence-transformers"
      ],
      "execution_count": 0,
      "outputs": []
    },
    {
      "cell_type": "code",
      "metadata": {
        "id": "rGqk7k8wYkBe",
        "colab_type": "code",
        "colab": {}
      },
      "source": [
        "from sentence_transformers import SentenceTransformer\n",
        "from query_model.queries_BERT import BERTQueryEngine"
      ],
      "execution_count": 0,
      "outputs": []
    },
    {
      "cell_type": "code",
      "metadata": {
        "id": "JHRR_cJSSQ4D",
        "colab_type": "code",
        "colab": {
          "base_uri": "https://localhost:8080/",
          "height": 34
        },
        "outputId": "3a90e3fb-5934-47f5-da1b-0b015ae5872e"
      },
      "source": [
        "import torch\n",
        "torch.cuda.get_device_name(0)"
      ],
      "execution_count": 9,
      "outputs": [
        {
          "output_type": "execute_result",
          "data": {
            "text/plain": [
              "'Tesla P100-PCIE-16GB'"
            ]
          },
          "metadata": {
            "tags": []
          },
          "execution_count": 9
        }
      ]
    },
    {
      "cell_type": "code",
      "metadata": {
        "id": "nfbt3quqo2tH",
        "colab_type": "code",
        "colab": {}
      },
      "source": [
        "query_engine = BERTQueryEngine()\n",
        "query_engine.fit(abstracts)"
      ],
      "execution_count": 0,
      "outputs": []
    },
    {
      "cell_type": "code",
      "metadata": {
        "id": "h5nzrjIHpWIT",
        "colab_type": "code",
        "colab": {}
      },
      "source": [
        "# If you want to load already trained model\n",
        "query_engine = BERTQueryEngine.load('/content/drive/My Drive/APT/trained_models/BERT.dat')"
      ],
      "execution_count": 0,
      "outputs": []
    },
    {
      "cell_type": "code",
      "metadata": {
        "id": "ydloUXVJpgrK",
        "colab_type": "code",
        "colab": {
          "base_uri": "https://localhost:8080/",
          "height": 34
        },
        "outputId": "6aa62fee-511c-4e9d-f49c-5f89a81de376"
      },
      "source": [
        "query_engine.save('/content/drive/My Drive/APT/trained_models/', 'BERT')"
      ],
      "execution_count": 12,
      "outputs": [
        {
          "output_type": "stream",
          "text": [
            "Writing object to /content/drive/My Drive/APT/trained_models/BERT.dat\n"
          ],
          "name": "stdout"
        }
      ]
    },
    {
      "cell_type": "code",
      "metadata": {
        "id": "d83fXLKh97Iq",
        "colab_type": "code",
        "colab": {}
      },
      "source": [
        "res = run_queries(query_engine, queries)\n",
        "res.reset_index(drop=True)[['query', 'text', 'sim']].style.set_properties(**{'font-size': '9pt'})"
      ],
      "execution_count": 0,
      "outputs": []
    }
  ]
}